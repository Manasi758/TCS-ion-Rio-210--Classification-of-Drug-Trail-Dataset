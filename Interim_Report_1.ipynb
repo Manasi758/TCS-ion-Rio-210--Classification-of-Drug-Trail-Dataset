{
  "nbformat": 4,
  "nbformat_minor": 0,
  "metadata": {
    "colab": {
      "provenance": [],
      "mount_file_id": "1UX8R0coNStNp1qsgV0YFeWwEPGdtFgM7",
      "authorship_tag": "ABX9TyNGG2bH26leVc8f4mseiaLI",
      "include_colab_link": true
    },
    "kernelspec": {
      "name": "python3",
      "display_name": "Python 3"
    },
    "language_info": {
      "name": "python"
    }
  },
  "cells": [
    {
      "cell_type": "markdown",
      "metadata": {
        "id": "view-in-github",
        "colab_type": "text"
      },
      "source": [
        "<a href=\"https://colab.research.google.com/github/Manasi758/TCS-ion-Rio-210--Classification-of-Drug-Trail-Dataset/blob/main/Interim_Report_1.ipynb\" target=\"_parent\"><img src=\"https://colab.research.google.com/assets/colab-badge.svg\" alt=\"Open In Colab\"/></a>"
      ]
    },
    {
      "cell_type": "code",
      "execution_count": 1,
      "metadata": {
        "colab": {
          "base_uri": "https://localhost:8080/"
        },
        "id": "3JFMZT3U1OKK",
        "outputId": "72ee3b97-f76b-40f2-d8b8-89ac15b6e422"
      },
      "outputs": [
        {
          "output_type": "stream",
          "name": "stdout",
          "text": [
            "Looking in indexes: https://pypi.org/simple, https://us-python.pkg.dev/colab-wheels/public/simple/\n",
            "Collecting faker\n",
            "  Downloading Faker-18.4.0-py3-none-any.whl (1.7 MB)\n",
            "\u001b[2K     \u001b[90m━━━━━━━━━━━━━━━━━━━━━━━━━━━━━━━━━━━━━━━━\u001b[0m \u001b[32m1.7/1.7 MB\u001b[0m \u001b[31m16.6 MB/s\u001b[0m eta \u001b[36m0:00:00\u001b[0m\n",
            "\u001b[?25hRequirement already satisfied: python-dateutil>=2.4 in /usr/local/lib/python3.9/dist-packages (from faker) (2.8.2)\n",
            "Requirement already satisfied: six>=1.5 in /usr/local/lib/python3.9/dist-packages (from python-dateutil>=2.4->faker) (1.16.0)\n",
            "Installing collected packages: faker\n",
            "Successfully installed faker-18.4.0\n"
          ]
        }
      ],
      "source": [
        "pip install faker\n"
      ]
    },
    {
      "cell_type": "markdown",
      "source": [
        "**Importing Libraries**"
      ],
      "metadata": {
        "id": "_fOkiDvL1uQf"
      }
    },
    {
      "cell_type": "code",
      "source": [
        "from faker import Faker\n",
        "import numpy as np\n",
        "import pandas as pd\n",
        "from random import choice, sample\n",
        "import matplotlib.pyplot as plt\n",
        "import seaborn as sns\n",
        "%matplotlib inline\n",
        "\n",
        "import warnings\n",
        "warnings.filterwarnings('ignore')"
      ],
      "metadata": {
        "id": "UsTtP0mI1y5O"
      },
      "execution_count": 2,
      "outputs": []
    },
    {
      "cell_type": "code",
      "source": [
        "df = Faker()\n"
      ],
      "metadata": {
        "id": "97wx0wt411_j"
      },
      "execution_count": 3,
      "outputs": []
    },
    {
      "cell_type": "markdown",
      "source": [
        "**Creating name column with Faker**"
      ],
      "metadata": {
        "id": "QiSpW7MP18XX"
      }
    },
    {
      "cell_type": "code",
      "source": [
        "def create_names(n):\n",
        "   name = []\n",
        "   for _ in range(0, n):\n",
        "        name.append(df.name())\n",
        "   return name"
      ],
      "metadata": {
        "id": "cFNHvc6U1-j3"
      },
      "execution_count": 4,
      "outputs": []
    },
    {
      "cell_type": "code",
      "source": [
        "name = create_names(362806)\n"
      ],
      "metadata": {
        "id": "fr-2de2d2A0N"
      },
      "execution_count": 5,
      "outputs": []
    },
    {
      "cell_type": "code",
      "source": [
        "df_name = pd.DataFrame(list(zip(name)),columns = ['Name'])\n",
        "df_name.head()"
      ],
      "metadata": {
        "colab": {
          "base_uri": "https://localhost:8080/",
          "height": 206
        },
        "id": "cJJcNyEq2Gy3",
        "outputId": "9fcefdd7-7fe6-416e-874b-3e3d806b793d"
      },
      "execution_count": 6,
      "outputs": [
        {
          "output_type": "execute_result",
          "data": {
            "text/plain": [
              "               Name\n",
              "0   Michelle Taylor\n",
              "1  Anna Mendoza DDS\n",
              "2     Donna Mccarty\n",
              "3      Heidi Thomas\n",
              "4     Jessica Cantu"
            ],
            "text/html": [
              "\n",
              "  <div id=\"df-081955cd-7130-4636-930e-4c79fc49e842\">\n",
              "    <div class=\"colab-df-container\">\n",
              "      <div>\n",
              "<style scoped>\n",
              "    .dataframe tbody tr th:only-of-type {\n",
              "        vertical-align: middle;\n",
              "    }\n",
              "\n",
              "    .dataframe tbody tr th {\n",
              "        vertical-align: top;\n",
              "    }\n",
              "\n",
              "    .dataframe thead th {\n",
              "        text-align: right;\n",
              "    }\n",
              "</style>\n",
              "<table border=\"1\" class=\"dataframe\">\n",
              "  <thead>\n",
              "    <tr style=\"text-align: right;\">\n",
              "      <th></th>\n",
              "      <th>Name</th>\n",
              "    </tr>\n",
              "  </thead>\n",
              "  <tbody>\n",
              "    <tr>\n",
              "      <th>0</th>\n",
              "      <td>Michelle Taylor</td>\n",
              "    </tr>\n",
              "    <tr>\n",
              "      <th>1</th>\n",
              "      <td>Anna Mendoza DDS</td>\n",
              "    </tr>\n",
              "    <tr>\n",
              "      <th>2</th>\n",
              "      <td>Donna Mccarty</td>\n",
              "    </tr>\n",
              "    <tr>\n",
              "      <th>3</th>\n",
              "      <td>Heidi Thomas</td>\n",
              "    </tr>\n",
              "    <tr>\n",
              "      <th>4</th>\n",
              "      <td>Jessica Cantu</td>\n",
              "    </tr>\n",
              "  </tbody>\n",
              "</table>\n",
              "</div>\n",
              "      <button class=\"colab-df-convert\" onclick=\"convertToInteractive('df-081955cd-7130-4636-930e-4c79fc49e842')\"\n",
              "              title=\"Convert this dataframe to an interactive table.\"\n",
              "              style=\"display:none;\">\n",
              "        \n",
              "  <svg xmlns=\"http://www.w3.org/2000/svg\" height=\"24px\"viewBox=\"0 0 24 24\"\n",
              "       width=\"24px\">\n",
              "    <path d=\"M0 0h24v24H0V0z\" fill=\"none\"/>\n",
              "    <path d=\"M18.56 5.44l.94 2.06.94-2.06 2.06-.94-2.06-.94-.94-2.06-.94 2.06-2.06.94zm-11 1L8.5 8.5l.94-2.06 2.06-.94-2.06-.94L8.5 2.5l-.94 2.06-2.06.94zm10 10l.94 2.06.94-2.06 2.06-.94-2.06-.94-.94-2.06-.94 2.06-2.06.94z\"/><path d=\"M17.41 7.96l-1.37-1.37c-.4-.4-.92-.59-1.43-.59-.52 0-1.04.2-1.43.59L10.3 9.45l-7.72 7.72c-.78.78-.78 2.05 0 2.83L4 21.41c.39.39.9.59 1.41.59.51 0 1.02-.2 1.41-.59l7.78-7.78 2.81-2.81c.8-.78.8-2.07 0-2.86zM5.41 20L4 18.59l7.72-7.72 1.47 1.35L5.41 20z\"/>\n",
              "  </svg>\n",
              "      </button>\n",
              "      \n",
              "  <style>\n",
              "    .colab-df-container {\n",
              "      display:flex;\n",
              "      flex-wrap:wrap;\n",
              "      gap: 12px;\n",
              "    }\n",
              "\n",
              "    .colab-df-convert {\n",
              "      background-color: #E8F0FE;\n",
              "      border: none;\n",
              "      border-radius: 50%;\n",
              "      cursor: pointer;\n",
              "      display: none;\n",
              "      fill: #1967D2;\n",
              "      height: 32px;\n",
              "      padding: 0 0 0 0;\n",
              "      width: 32px;\n",
              "    }\n",
              "\n",
              "    .colab-df-convert:hover {\n",
              "      background-color: #E2EBFA;\n",
              "      box-shadow: 0px 1px 2px rgba(60, 64, 67, 0.3), 0px 1px 3px 1px rgba(60, 64, 67, 0.15);\n",
              "      fill: #174EA6;\n",
              "    }\n",
              "\n",
              "    [theme=dark] .colab-df-convert {\n",
              "      background-color: #3B4455;\n",
              "      fill: #D2E3FC;\n",
              "    }\n",
              "\n",
              "    [theme=dark] .colab-df-convert:hover {\n",
              "      background-color: #434B5C;\n",
              "      box-shadow: 0px 1px 3px 1px rgba(0, 0, 0, 0.15);\n",
              "      filter: drop-shadow(0px 1px 2px rgba(0, 0, 0, 0.3));\n",
              "      fill: #FFFFFF;\n",
              "    }\n",
              "  </style>\n",
              "\n",
              "      <script>\n",
              "        const buttonEl =\n",
              "          document.querySelector('#df-081955cd-7130-4636-930e-4c79fc49e842 button.colab-df-convert');\n",
              "        buttonEl.style.display =\n",
              "          google.colab.kernel.accessAllowed ? 'block' : 'none';\n",
              "\n",
              "        async function convertToInteractive(key) {\n",
              "          const element = document.querySelector('#df-081955cd-7130-4636-930e-4c79fc49e842');\n",
              "          const dataTable =\n",
              "            await google.colab.kernel.invokeFunction('convertToInteractive',\n",
              "                                                     [key], {});\n",
              "          if (!dataTable) return;\n",
              "\n",
              "          const docLinkHtml = 'Like what you see? Visit the ' +\n",
              "            '<a target=\"_blank\" href=https://colab.research.google.com/notebooks/data_table.ipynb>data table notebook</a>'\n",
              "            + ' to learn more about interactive tables.';\n",
              "          element.innerHTML = '';\n",
              "          dataTable['output_type'] = 'display_data';\n",
              "          await google.colab.output.renderOutput(dataTable, element);\n",
              "          const docLink = document.createElement('div');\n",
              "          docLink.innerHTML = docLinkHtml;\n",
              "          element.appendChild(docLink);\n",
              "        }\n",
              "      </script>\n",
              "    </div>\n",
              "  </div>\n",
              "  "
            ]
          },
          "metadata": {},
          "execution_count": 6
        }
      ]
    },
    {
      "cell_type": "code",
      "source": [
        "\n",
        "df_name.shape\n"
      ],
      "metadata": {
        "colab": {
          "base_uri": "https://localhost:8080/"
        },
        "id": "HayPLz1r2Z9n",
        "outputId": "a5a9e59d-6f0d-4ff7-a141-b0784e3f2218"
      },
      "execution_count": 7,
      "outputs": [
        {
          "output_type": "execute_result",
          "data": {
            "text/plain": [
              "(362806, 1)"
            ]
          },
          "metadata": {},
          "execution_count": 7
        }
      ]
    },
    {
      "cell_type": "markdown",
      "source": [
        "**Creating race column**"
      ],
      "metadata": {
        "id": "QoQpf1RY2dvX"
      }
    },
    {
      "cell_type": "code",
      "source": [
        "def weighted_cartesian_choice(*iterables):\n",
        "    # An arbitrary number of tuple or lists,each consisting of population and weights.weighted_cartesian_choice returns a list \n",
        "    #with a chocie from each population\n",
        "    \n",
        "    res = []\n",
        "    for population, weights in iterables:\n",
        "     #normalize weight:\n",
        "        weights = np.array(weights) / sum(weights)\n",
        "        lst = np.random.choice(population, p=weights)\n",
        "        res.append(lst)\n",
        "    return res\n",
        "race = (['White','Hispanic', 'Black','Asian'], \n",
        "        [.32,.28,.22,.18])\n",
        "\n",
        "list=[]\n",
        "for i in range(362806):\n",
        "    res = weighted_cartesian_choice(race)\n",
        "    list.append(res)\n"
      ],
      "metadata": {
        "id": "V88ooWKr2heo"
      },
      "execution_count": 8,
      "outputs": []
    },
    {
      "cell_type": "code",
      "source": [
        "df_race=pd.DataFrame(list, columns = ['Race'])\n",
        "df_race.head()"
      ],
      "metadata": {
        "colab": {
          "base_uri": "https://localhost:8080/",
          "height": 206
        },
        "id": "AdZwxX8r2k3x",
        "outputId": "0bb594d1-acc9-4777-9224-227b3f6ac35f"
      },
      "execution_count": 9,
      "outputs": [
        {
          "output_type": "execute_result",
          "data": {
            "text/plain": [
              "    Race\n",
              "0  White\n",
              "1  Black\n",
              "2  White\n",
              "3  Black\n",
              "4  White"
            ],
            "text/html": [
              "\n",
              "  <div id=\"df-18defce4-6042-414f-a2e4-0f9ae9c7ddf7\">\n",
              "    <div class=\"colab-df-container\">\n",
              "      <div>\n",
              "<style scoped>\n",
              "    .dataframe tbody tr th:only-of-type {\n",
              "        vertical-align: middle;\n",
              "    }\n",
              "\n",
              "    .dataframe tbody tr th {\n",
              "        vertical-align: top;\n",
              "    }\n",
              "\n",
              "    .dataframe thead th {\n",
              "        text-align: right;\n",
              "    }\n",
              "</style>\n",
              "<table border=\"1\" class=\"dataframe\">\n",
              "  <thead>\n",
              "    <tr style=\"text-align: right;\">\n",
              "      <th></th>\n",
              "      <th>Race</th>\n",
              "    </tr>\n",
              "  </thead>\n",
              "  <tbody>\n",
              "    <tr>\n",
              "      <th>0</th>\n",
              "      <td>White</td>\n",
              "    </tr>\n",
              "    <tr>\n",
              "      <th>1</th>\n",
              "      <td>Black</td>\n",
              "    </tr>\n",
              "    <tr>\n",
              "      <th>2</th>\n",
              "      <td>White</td>\n",
              "    </tr>\n",
              "    <tr>\n",
              "      <th>3</th>\n",
              "      <td>Black</td>\n",
              "    </tr>\n",
              "    <tr>\n",
              "      <th>4</th>\n",
              "      <td>White</td>\n",
              "    </tr>\n",
              "  </tbody>\n",
              "</table>\n",
              "</div>\n",
              "      <button class=\"colab-df-convert\" onclick=\"convertToInteractive('df-18defce4-6042-414f-a2e4-0f9ae9c7ddf7')\"\n",
              "              title=\"Convert this dataframe to an interactive table.\"\n",
              "              style=\"display:none;\">\n",
              "        \n",
              "  <svg xmlns=\"http://www.w3.org/2000/svg\" height=\"24px\"viewBox=\"0 0 24 24\"\n",
              "       width=\"24px\">\n",
              "    <path d=\"M0 0h24v24H0V0z\" fill=\"none\"/>\n",
              "    <path d=\"M18.56 5.44l.94 2.06.94-2.06 2.06-.94-2.06-.94-.94-2.06-.94 2.06-2.06.94zm-11 1L8.5 8.5l.94-2.06 2.06-.94-2.06-.94L8.5 2.5l-.94 2.06-2.06.94zm10 10l.94 2.06.94-2.06 2.06-.94-2.06-.94-.94-2.06-.94 2.06-2.06.94z\"/><path d=\"M17.41 7.96l-1.37-1.37c-.4-.4-.92-.59-1.43-.59-.52 0-1.04.2-1.43.59L10.3 9.45l-7.72 7.72c-.78.78-.78 2.05 0 2.83L4 21.41c.39.39.9.59 1.41.59.51 0 1.02-.2 1.41-.59l7.78-7.78 2.81-2.81c.8-.78.8-2.07 0-2.86zM5.41 20L4 18.59l7.72-7.72 1.47 1.35L5.41 20z\"/>\n",
              "  </svg>\n",
              "      </button>\n",
              "      \n",
              "  <style>\n",
              "    .colab-df-container {\n",
              "      display:flex;\n",
              "      flex-wrap:wrap;\n",
              "      gap: 12px;\n",
              "    }\n",
              "\n",
              "    .colab-df-convert {\n",
              "      background-color: #E8F0FE;\n",
              "      border: none;\n",
              "      border-radius: 50%;\n",
              "      cursor: pointer;\n",
              "      display: none;\n",
              "      fill: #1967D2;\n",
              "      height: 32px;\n",
              "      padding: 0 0 0 0;\n",
              "      width: 32px;\n",
              "    }\n",
              "\n",
              "    .colab-df-convert:hover {\n",
              "      background-color: #E2EBFA;\n",
              "      box-shadow: 0px 1px 2px rgba(60, 64, 67, 0.3), 0px 1px 3px 1px rgba(60, 64, 67, 0.15);\n",
              "      fill: #174EA6;\n",
              "    }\n",
              "\n",
              "    [theme=dark] .colab-df-convert {\n",
              "      background-color: #3B4455;\n",
              "      fill: #D2E3FC;\n",
              "    }\n",
              "\n",
              "    [theme=dark] .colab-df-convert:hover {\n",
              "      background-color: #434B5C;\n",
              "      box-shadow: 0px 1px 3px 1px rgba(0, 0, 0, 0.15);\n",
              "      filter: drop-shadow(0px 1px 2px rgba(0, 0, 0, 0.3));\n",
              "      fill: #FFFFFF;\n",
              "    }\n",
              "  </style>\n",
              "\n",
              "      <script>\n",
              "        const buttonEl =\n",
              "          document.querySelector('#df-18defce4-6042-414f-a2e4-0f9ae9c7ddf7 button.colab-df-convert');\n",
              "        buttonEl.style.display =\n",
              "          google.colab.kernel.accessAllowed ? 'block' : 'none';\n",
              "\n",
              "        async function convertToInteractive(key) {\n",
              "          const element = document.querySelector('#df-18defce4-6042-414f-a2e4-0f9ae9c7ddf7');\n",
              "          const dataTable =\n",
              "            await google.colab.kernel.invokeFunction('convertToInteractive',\n",
              "                                                     [key], {});\n",
              "          if (!dataTable) return;\n",
              "\n",
              "          const docLinkHtml = 'Like what you see? Visit the ' +\n",
              "            '<a target=\"_blank\" href=https://colab.research.google.com/notebooks/data_table.ipynb>data table notebook</a>'\n",
              "            + ' to learn more about interactive tables.';\n",
              "          element.innerHTML = '';\n",
              "          dataTable['output_type'] = 'display_data';\n",
              "          await google.colab.output.renderOutput(dataTable, element);\n",
              "          const docLink = document.createElement('div');\n",
              "          docLink.innerHTML = docLinkHtml;\n",
              "          element.appendChild(docLink);\n",
              "        }\n",
              "      </script>\n",
              "    </div>\n",
              "  </div>\n",
              "  "
            ]
          },
          "metadata": {},
          "execution_count": 9
        }
      ]
    },
    {
      "cell_type": "markdown",
      "source": [
        "**Concatenating name and race columns**"
      ],
      "metadata": {
        "id": "-11jaikk2txy"
      }
    },
    {
      "cell_type": "code",
      "source": [
        "df_nr = pd.concat([df_name, df_race], axis=1).reindex(df_race.index)"
      ],
      "metadata": {
        "id": "2tO4bBB02xvr"
      },
      "execution_count": 10,
      "outputs": []
    },
    {
      "cell_type": "code",
      "source": [
        "df_drugs = pd.read_csv(\"/content/drive/MyDrive/webmd.csv\")"
      ],
      "metadata": {
        "id": "mt4EYdbL26aA"
      },
      "execution_count": 11,
      "outputs": []
    },
    {
      "cell_type": "markdown",
      "source": [
        "**Creating the final dataset**"
      ],
      "metadata": {
        "id": "oChlDaIm3JnD"
      }
    },
    {
      "cell_type": "code",
      "source": [
        "data_drugs = pd.concat([df_nr, df_drugs], axis=1).reindex(df_drugs.index)\n",
        "data_drugs.head()"
      ],
      "metadata": {
        "colab": {
          "base_uri": "https://localhost:8080/",
          "height": 669
        },
        "id": "5paVCqRT3MG7",
        "outputId": "ef846323-1980-4807-d238-e895d4ad8eb0"
      },
      "execution_count": 12,
      "outputs": [
        {
          "output_type": "execute_result",
          "data": {
            "text/plain": [
              "               Name   Race         Age      Condition       Date  \\\n",
              "0   Michelle Taylor  White  75 or over    Stuffy Nose  9/21/2014   \n",
              "1  Anna Mendoza DDS  Black       25-34  Cold Symptoms  1/13/2011   \n",
              "2     Donna Mccarty  White       65-74          Other  7/16/2012   \n",
              "3      Heidi Thomas  Black  75 or over          Other  9/23/2010   \n",
              "4     Jessica Cantu  White       35-44          Other   1/6/2009   \n",
              "\n",
              "                           Drug  DrugId  EaseofUse  Effectiveness  \\\n",
              "0                  25dph-7.5peh  146724          5              5   \n",
              "1                  25dph-7.5peh  146724          5              5   \n",
              "2  warfarin (bulk) 100 % powder  144731          2              3   \n",
              "3  warfarin (bulk) 100 % powder  144731          2              2   \n",
              "4  warfarin (bulk) 100 % powder  144731          1              1   \n",
              "\n",
              "                                             Reviews  Satisfaction     Sex  \\\n",
              "0  I'm a retired physician and of all the meds I ...             5    Male   \n",
              "1  cleared me right up even with my throat hurtin...             5  Female   \n",
              "2  why did my PTINR go from a normal of 2.5 to ov...             3  Female   \n",
              "3                       FALLING AND DON'T REALISE IT             1  Female   \n",
              "4  My grandfather was prescribed this medication ...             1    Male   \n",
              "\n",
              "                                               Sides  UsefulCount  \n",
              "0  Drowsiness,  dizziness ,  dry mouth /nose/thro...            0  \n",
              "1  Drowsiness,  dizziness ,  dry mouth /nose/thro...            1  \n",
              "2                                                               0  \n",
              "3                                                               0  \n",
              "4                                                               1  "
            ],
            "text/html": [
              "\n",
              "  <div id=\"df-f40a1d9b-cb32-4556-8da8-b38fdef9e24a\">\n",
              "    <div class=\"colab-df-container\">\n",
              "      <div>\n",
              "<style scoped>\n",
              "    .dataframe tbody tr th:only-of-type {\n",
              "        vertical-align: middle;\n",
              "    }\n",
              "\n",
              "    .dataframe tbody tr th {\n",
              "        vertical-align: top;\n",
              "    }\n",
              "\n",
              "    .dataframe thead th {\n",
              "        text-align: right;\n",
              "    }\n",
              "</style>\n",
              "<table border=\"1\" class=\"dataframe\">\n",
              "  <thead>\n",
              "    <tr style=\"text-align: right;\">\n",
              "      <th></th>\n",
              "      <th>Name</th>\n",
              "      <th>Race</th>\n",
              "      <th>Age</th>\n",
              "      <th>Condition</th>\n",
              "      <th>Date</th>\n",
              "      <th>Drug</th>\n",
              "      <th>DrugId</th>\n",
              "      <th>EaseofUse</th>\n",
              "      <th>Effectiveness</th>\n",
              "      <th>Reviews</th>\n",
              "      <th>Satisfaction</th>\n",
              "      <th>Sex</th>\n",
              "      <th>Sides</th>\n",
              "      <th>UsefulCount</th>\n",
              "    </tr>\n",
              "  </thead>\n",
              "  <tbody>\n",
              "    <tr>\n",
              "      <th>0</th>\n",
              "      <td>Michelle Taylor</td>\n",
              "      <td>White</td>\n",
              "      <td>75 or over</td>\n",
              "      <td>Stuffy Nose</td>\n",
              "      <td>9/21/2014</td>\n",
              "      <td>25dph-7.5peh</td>\n",
              "      <td>146724</td>\n",
              "      <td>5</td>\n",
              "      <td>5</td>\n",
              "      <td>I'm a retired physician and of all the meds I ...</td>\n",
              "      <td>5</td>\n",
              "      <td>Male</td>\n",
              "      <td>Drowsiness,  dizziness ,  dry mouth /nose/thro...</td>\n",
              "      <td>0</td>\n",
              "    </tr>\n",
              "    <tr>\n",
              "      <th>1</th>\n",
              "      <td>Anna Mendoza DDS</td>\n",
              "      <td>Black</td>\n",
              "      <td>25-34</td>\n",
              "      <td>Cold Symptoms</td>\n",
              "      <td>1/13/2011</td>\n",
              "      <td>25dph-7.5peh</td>\n",
              "      <td>146724</td>\n",
              "      <td>5</td>\n",
              "      <td>5</td>\n",
              "      <td>cleared me right up even with my throat hurtin...</td>\n",
              "      <td>5</td>\n",
              "      <td>Female</td>\n",
              "      <td>Drowsiness,  dizziness ,  dry mouth /nose/thro...</td>\n",
              "      <td>1</td>\n",
              "    </tr>\n",
              "    <tr>\n",
              "      <th>2</th>\n",
              "      <td>Donna Mccarty</td>\n",
              "      <td>White</td>\n",
              "      <td>65-74</td>\n",
              "      <td>Other</td>\n",
              "      <td>7/16/2012</td>\n",
              "      <td>warfarin (bulk) 100 % powder</td>\n",
              "      <td>144731</td>\n",
              "      <td>2</td>\n",
              "      <td>3</td>\n",
              "      <td>why did my PTINR go from a normal of 2.5 to ov...</td>\n",
              "      <td>3</td>\n",
              "      <td>Female</td>\n",
              "      <td></td>\n",
              "      <td>0</td>\n",
              "    </tr>\n",
              "    <tr>\n",
              "      <th>3</th>\n",
              "      <td>Heidi Thomas</td>\n",
              "      <td>Black</td>\n",
              "      <td>75 or over</td>\n",
              "      <td>Other</td>\n",
              "      <td>9/23/2010</td>\n",
              "      <td>warfarin (bulk) 100 % powder</td>\n",
              "      <td>144731</td>\n",
              "      <td>2</td>\n",
              "      <td>2</td>\n",
              "      <td>FALLING AND DON'T REALISE IT</td>\n",
              "      <td>1</td>\n",
              "      <td>Female</td>\n",
              "      <td></td>\n",
              "      <td>0</td>\n",
              "    </tr>\n",
              "    <tr>\n",
              "      <th>4</th>\n",
              "      <td>Jessica Cantu</td>\n",
              "      <td>White</td>\n",
              "      <td>35-44</td>\n",
              "      <td>Other</td>\n",
              "      <td>1/6/2009</td>\n",
              "      <td>warfarin (bulk) 100 % powder</td>\n",
              "      <td>144731</td>\n",
              "      <td>1</td>\n",
              "      <td>1</td>\n",
              "      <td>My grandfather was prescribed this medication ...</td>\n",
              "      <td>1</td>\n",
              "      <td>Male</td>\n",
              "      <td></td>\n",
              "      <td>1</td>\n",
              "    </tr>\n",
              "  </tbody>\n",
              "</table>\n",
              "</div>\n",
              "      <button class=\"colab-df-convert\" onclick=\"convertToInteractive('df-f40a1d9b-cb32-4556-8da8-b38fdef9e24a')\"\n",
              "              title=\"Convert this dataframe to an interactive table.\"\n",
              "              style=\"display:none;\">\n",
              "        \n",
              "  <svg xmlns=\"http://www.w3.org/2000/svg\" height=\"24px\"viewBox=\"0 0 24 24\"\n",
              "       width=\"24px\">\n",
              "    <path d=\"M0 0h24v24H0V0z\" fill=\"none\"/>\n",
              "    <path d=\"M18.56 5.44l.94 2.06.94-2.06 2.06-.94-2.06-.94-.94-2.06-.94 2.06-2.06.94zm-11 1L8.5 8.5l.94-2.06 2.06-.94-2.06-.94L8.5 2.5l-.94 2.06-2.06.94zm10 10l.94 2.06.94-2.06 2.06-.94-2.06-.94-.94-2.06-.94 2.06-2.06.94z\"/><path d=\"M17.41 7.96l-1.37-1.37c-.4-.4-.92-.59-1.43-.59-.52 0-1.04.2-1.43.59L10.3 9.45l-7.72 7.72c-.78.78-.78 2.05 0 2.83L4 21.41c.39.39.9.59 1.41.59.51 0 1.02-.2 1.41-.59l7.78-7.78 2.81-2.81c.8-.78.8-2.07 0-2.86zM5.41 20L4 18.59l7.72-7.72 1.47 1.35L5.41 20z\"/>\n",
              "  </svg>\n",
              "      </button>\n",
              "      \n",
              "  <style>\n",
              "    .colab-df-container {\n",
              "      display:flex;\n",
              "      flex-wrap:wrap;\n",
              "      gap: 12px;\n",
              "    }\n",
              "\n",
              "    .colab-df-convert {\n",
              "      background-color: #E8F0FE;\n",
              "      border: none;\n",
              "      border-radius: 50%;\n",
              "      cursor: pointer;\n",
              "      display: none;\n",
              "      fill: #1967D2;\n",
              "      height: 32px;\n",
              "      padding: 0 0 0 0;\n",
              "      width: 32px;\n",
              "    }\n",
              "\n",
              "    .colab-df-convert:hover {\n",
              "      background-color: #E2EBFA;\n",
              "      box-shadow: 0px 1px 2px rgba(60, 64, 67, 0.3), 0px 1px 3px 1px rgba(60, 64, 67, 0.15);\n",
              "      fill: #174EA6;\n",
              "    }\n",
              "\n",
              "    [theme=dark] .colab-df-convert {\n",
              "      background-color: #3B4455;\n",
              "      fill: #D2E3FC;\n",
              "    }\n",
              "\n",
              "    [theme=dark] .colab-df-convert:hover {\n",
              "      background-color: #434B5C;\n",
              "      box-shadow: 0px 1px 3px 1px rgba(0, 0, 0, 0.15);\n",
              "      filter: drop-shadow(0px 1px 2px rgba(0, 0, 0, 0.3));\n",
              "      fill: #FFFFFF;\n",
              "    }\n",
              "  </style>\n",
              "\n",
              "      <script>\n",
              "        const buttonEl =\n",
              "          document.querySelector('#df-f40a1d9b-cb32-4556-8da8-b38fdef9e24a button.colab-df-convert');\n",
              "        buttonEl.style.display =\n",
              "          google.colab.kernel.accessAllowed ? 'block' : 'none';\n",
              "\n",
              "        async function convertToInteractive(key) {\n",
              "          const element = document.querySelector('#df-f40a1d9b-cb32-4556-8da8-b38fdef9e24a');\n",
              "          const dataTable =\n",
              "            await google.colab.kernel.invokeFunction('convertToInteractive',\n",
              "                                                     [key], {});\n",
              "          if (!dataTable) return;\n",
              "\n",
              "          const docLinkHtml = 'Like what you see? Visit the ' +\n",
              "            '<a target=\"_blank\" href=https://colab.research.google.com/notebooks/data_table.ipynb>data table notebook</a>'\n",
              "            + ' to learn more about interactive tables.';\n",
              "          element.innerHTML = '';\n",
              "          dataTable['output_type'] = 'display_data';\n",
              "          await google.colab.output.renderOutput(dataTable, element);\n",
              "          const docLink = document.createElement('div');\n",
              "          docLink.innerHTML = docLinkHtml;\n",
              "          element.appendChild(docLink);\n",
              "        }\n",
              "      </script>\n",
              "    </div>\n",
              "  </div>\n",
              "  "
            ]
          },
          "metadata": {},
          "execution_count": 12
        }
      ]
    },
    {
      "cell_type": "code",
      "source": [
        "data_drugs = data_drugs.to_csv('dataset_drugs.csv', index=False)\n"
      ],
      "metadata": {
        "id": "G6dFBeQv3OWH"
      },
      "execution_count": 13,
      "outputs": []
    },
    {
      "cell_type": "markdown",
      "source": [
        "**Loading Dataset**"
      ],
      "metadata": {
        "id": "HFhd5fMX3VtY"
      }
    },
    {
      "cell_type": "code",
      "source": [
        "data = pd.read_csv('dataset_drugs.csv')\n",
        "data.head()"
      ],
      "metadata": {
        "colab": {
          "base_uri": "https://localhost:8080/",
          "height": 669
        },
        "id": "5Mj7lgi33SUO",
        "outputId": "3c85ceef-9553-44f1-860f-b807b6619d55"
      },
      "execution_count": 14,
      "outputs": [
        {
          "output_type": "execute_result",
          "data": {
            "text/plain": [
              "               Name   Race         Age      Condition       Date  \\\n",
              "0   Michelle Taylor  White  75 or over    Stuffy Nose  9/21/2014   \n",
              "1  Anna Mendoza DDS  Black       25-34  Cold Symptoms  1/13/2011   \n",
              "2     Donna Mccarty  White       65-74          Other  7/16/2012   \n",
              "3      Heidi Thomas  Black  75 or over          Other  9/23/2010   \n",
              "4     Jessica Cantu  White       35-44          Other   1/6/2009   \n",
              "\n",
              "                           Drug  DrugId  EaseofUse  Effectiveness  \\\n",
              "0                  25dph-7.5peh  146724          5              5   \n",
              "1                  25dph-7.5peh  146724          5              5   \n",
              "2  warfarin (bulk) 100 % powder  144731          2              3   \n",
              "3  warfarin (bulk) 100 % powder  144731          2              2   \n",
              "4  warfarin (bulk) 100 % powder  144731          1              1   \n",
              "\n",
              "                                             Reviews  Satisfaction     Sex  \\\n",
              "0  I'm a retired physician and of all the meds I ...             5    Male   \n",
              "1  cleared me right up even with my throat hurtin...             5  Female   \n",
              "2  why did my PTINR go from a normal of 2.5 to ov...             3  Female   \n",
              "3                       FALLING AND DON'T REALISE IT             1  Female   \n",
              "4  My grandfather was prescribed this medication ...             1    Male   \n",
              "\n",
              "                                               Sides  UsefulCount  \n",
              "0  Drowsiness,  dizziness ,  dry mouth /nose/thro...            0  \n",
              "1  Drowsiness,  dizziness ,  dry mouth /nose/thro...            1  \n",
              "2                                                               0  \n",
              "3                                                               0  \n",
              "4                                                               1  "
            ],
            "text/html": [
              "\n",
              "  <div id=\"df-45bd29c4-e96d-4857-9222-9d078c605c1e\">\n",
              "    <div class=\"colab-df-container\">\n",
              "      <div>\n",
              "<style scoped>\n",
              "    .dataframe tbody tr th:only-of-type {\n",
              "        vertical-align: middle;\n",
              "    }\n",
              "\n",
              "    .dataframe tbody tr th {\n",
              "        vertical-align: top;\n",
              "    }\n",
              "\n",
              "    .dataframe thead th {\n",
              "        text-align: right;\n",
              "    }\n",
              "</style>\n",
              "<table border=\"1\" class=\"dataframe\">\n",
              "  <thead>\n",
              "    <tr style=\"text-align: right;\">\n",
              "      <th></th>\n",
              "      <th>Name</th>\n",
              "      <th>Race</th>\n",
              "      <th>Age</th>\n",
              "      <th>Condition</th>\n",
              "      <th>Date</th>\n",
              "      <th>Drug</th>\n",
              "      <th>DrugId</th>\n",
              "      <th>EaseofUse</th>\n",
              "      <th>Effectiveness</th>\n",
              "      <th>Reviews</th>\n",
              "      <th>Satisfaction</th>\n",
              "      <th>Sex</th>\n",
              "      <th>Sides</th>\n",
              "      <th>UsefulCount</th>\n",
              "    </tr>\n",
              "  </thead>\n",
              "  <tbody>\n",
              "    <tr>\n",
              "      <th>0</th>\n",
              "      <td>Michelle Taylor</td>\n",
              "      <td>White</td>\n",
              "      <td>75 or over</td>\n",
              "      <td>Stuffy Nose</td>\n",
              "      <td>9/21/2014</td>\n",
              "      <td>25dph-7.5peh</td>\n",
              "      <td>146724</td>\n",
              "      <td>5</td>\n",
              "      <td>5</td>\n",
              "      <td>I'm a retired physician and of all the meds I ...</td>\n",
              "      <td>5</td>\n",
              "      <td>Male</td>\n",
              "      <td>Drowsiness,  dizziness ,  dry mouth /nose/thro...</td>\n",
              "      <td>0</td>\n",
              "    </tr>\n",
              "    <tr>\n",
              "      <th>1</th>\n",
              "      <td>Anna Mendoza DDS</td>\n",
              "      <td>Black</td>\n",
              "      <td>25-34</td>\n",
              "      <td>Cold Symptoms</td>\n",
              "      <td>1/13/2011</td>\n",
              "      <td>25dph-7.5peh</td>\n",
              "      <td>146724</td>\n",
              "      <td>5</td>\n",
              "      <td>5</td>\n",
              "      <td>cleared me right up even with my throat hurtin...</td>\n",
              "      <td>5</td>\n",
              "      <td>Female</td>\n",
              "      <td>Drowsiness,  dizziness ,  dry mouth /nose/thro...</td>\n",
              "      <td>1</td>\n",
              "    </tr>\n",
              "    <tr>\n",
              "      <th>2</th>\n",
              "      <td>Donna Mccarty</td>\n",
              "      <td>White</td>\n",
              "      <td>65-74</td>\n",
              "      <td>Other</td>\n",
              "      <td>7/16/2012</td>\n",
              "      <td>warfarin (bulk) 100 % powder</td>\n",
              "      <td>144731</td>\n",
              "      <td>2</td>\n",
              "      <td>3</td>\n",
              "      <td>why did my PTINR go from a normal of 2.5 to ov...</td>\n",
              "      <td>3</td>\n",
              "      <td>Female</td>\n",
              "      <td></td>\n",
              "      <td>0</td>\n",
              "    </tr>\n",
              "    <tr>\n",
              "      <th>3</th>\n",
              "      <td>Heidi Thomas</td>\n",
              "      <td>Black</td>\n",
              "      <td>75 or over</td>\n",
              "      <td>Other</td>\n",
              "      <td>9/23/2010</td>\n",
              "      <td>warfarin (bulk) 100 % powder</td>\n",
              "      <td>144731</td>\n",
              "      <td>2</td>\n",
              "      <td>2</td>\n",
              "      <td>FALLING AND DON'T REALISE IT</td>\n",
              "      <td>1</td>\n",
              "      <td>Female</td>\n",
              "      <td></td>\n",
              "      <td>0</td>\n",
              "    </tr>\n",
              "    <tr>\n",
              "      <th>4</th>\n",
              "      <td>Jessica Cantu</td>\n",
              "      <td>White</td>\n",
              "      <td>35-44</td>\n",
              "      <td>Other</td>\n",
              "      <td>1/6/2009</td>\n",
              "      <td>warfarin (bulk) 100 % powder</td>\n",
              "      <td>144731</td>\n",
              "      <td>1</td>\n",
              "      <td>1</td>\n",
              "      <td>My grandfather was prescribed this medication ...</td>\n",
              "      <td>1</td>\n",
              "      <td>Male</td>\n",
              "      <td></td>\n",
              "      <td>1</td>\n",
              "    </tr>\n",
              "  </tbody>\n",
              "</table>\n",
              "</div>\n",
              "      <button class=\"colab-df-convert\" onclick=\"convertToInteractive('df-45bd29c4-e96d-4857-9222-9d078c605c1e')\"\n",
              "              title=\"Convert this dataframe to an interactive table.\"\n",
              "              style=\"display:none;\">\n",
              "        \n",
              "  <svg xmlns=\"http://www.w3.org/2000/svg\" height=\"24px\"viewBox=\"0 0 24 24\"\n",
              "       width=\"24px\">\n",
              "    <path d=\"M0 0h24v24H0V0z\" fill=\"none\"/>\n",
              "    <path d=\"M18.56 5.44l.94 2.06.94-2.06 2.06-.94-2.06-.94-.94-2.06-.94 2.06-2.06.94zm-11 1L8.5 8.5l.94-2.06 2.06-.94-2.06-.94L8.5 2.5l-.94 2.06-2.06.94zm10 10l.94 2.06.94-2.06 2.06-.94-2.06-.94-.94-2.06-.94 2.06-2.06.94z\"/><path d=\"M17.41 7.96l-1.37-1.37c-.4-.4-.92-.59-1.43-.59-.52 0-1.04.2-1.43.59L10.3 9.45l-7.72 7.72c-.78.78-.78 2.05 0 2.83L4 21.41c.39.39.9.59 1.41.59.51 0 1.02-.2 1.41-.59l7.78-7.78 2.81-2.81c.8-.78.8-2.07 0-2.86zM5.41 20L4 18.59l7.72-7.72 1.47 1.35L5.41 20z\"/>\n",
              "  </svg>\n",
              "      </button>\n",
              "      \n",
              "  <style>\n",
              "    .colab-df-container {\n",
              "      display:flex;\n",
              "      flex-wrap:wrap;\n",
              "      gap: 12px;\n",
              "    }\n",
              "\n",
              "    .colab-df-convert {\n",
              "      background-color: #E8F0FE;\n",
              "      border: none;\n",
              "      border-radius: 50%;\n",
              "      cursor: pointer;\n",
              "      display: none;\n",
              "      fill: #1967D2;\n",
              "      height: 32px;\n",
              "      padding: 0 0 0 0;\n",
              "      width: 32px;\n",
              "    }\n",
              "\n",
              "    .colab-df-convert:hover {\n",
              "      background-color: #E2EBFA;\n",
              "      box-shadow: 0px 1px 2px rgba(60, 64, 67, 0.3), 0px 1px 3px 1px rgba(60, 64, 67, 0.15);\n",
              "      fill: #174EA6;\n",
              "    }\n",
              "\n",
              "    [theme=dark] .colab-df-convert {\n",
              "      background-color: #3B4455;\n",
              "      fill: #D2E3FC;\n",
              "    }\n",
              "\n",
              "    [theme=dark] .colab-df-convert:hover {\n",
              "      background-color: #434B5C;\n",
              "      box-shadow: 0px 1px 3px 1px rgba(0, 0, 0, 0.15);\n",
              "      filter: drop-shadow(0px 1px 2px rgba(0, 0, 0, 0.3));\n",
              "      fill: #FFFFFF;\n",
              "    }\n",
              "  </style>\n",
              "\n",
              "      <script>\n",
              "        const buttonEl =\n",
              "          document.querySelector('#df-45bd29c4-e96d-4857-9222-9d078c605c1e button.colab-df-convert');\n",
              "        buttonEl.style.display =\n",
              "          google.colab.kernel.accessAllowed ? 'block' : 'none';\n",
              "\n",
              "        async function convertToInteractive(key) {\n",
              "          const element = document.querySelector('#df-45bd29c4-e96d-4857-9222-9d078c605c1e');\n",
              "          const dataTable =\n",
              "            await google.colab.kernel.invokeFunction('convertToInteractive',\n",
              "                                                     [key], {});\n",
              "          if (!dataTable) return;\n",
              "\n",
              "          const docLinkHtml = 'Like what you see? Visit the ' +\n",
              "            '<a target=\"_blank\" href=https://colab.research.google.com/notebooks/data_table.ipynb>data table notebook</a>'\n",
              "            + ' to learn more about interactive tables.';\n",
              "          element.innerHTML = '';\n",
              "          dataTable['output_type'] = 'display_data';\n",
              "          await google.colab.output.renderOutput(dataTable, element);\n",
              "          const docLink = document.createElement('div');\n",
              "          docLink.innerHTML = docLinkHtml;\n",
              "          element.appendChild(docLink);\n",
              "        }\n",
              "      </script>\n",
              "    </div>\n",
              "  </div>\n",
              "  "
            ]
          },
          "metadata": {},
          "execution_count": 14
        }
      ]
    },
    {
      "cell_type": "markdown",
      "source": [
        "**Description of the dataset**\n",
        "\n",
        "Name : Name of the patient\n",
        "\n",
        "Race : Race of the patient\n",
        "\n",
        "Age : Age of the patient\n",
        "\n",
        "Condition : Condition/symptom from which the patient is suffering\n",
        "\n",
        "Date : Date of usage\n",
        "\n",
        "Drug : Name of the drug\n",
        "\n",
        "DrugId : Identity/code of drug\n",
        "\n",
        "EaseofUse : Patient's 10-Star rating on the ease of use of drug\n",
        "\n",
        "Effectiveness : Patient's 10-Star rating on the effectiveness of drug\n",
        "\n",
        "Reviews : Patient's review\n",
        "\n",
        "Satisfaction : Patient's 10-Star rating on satisfaction\n",
        "\n",
        "Sex : Gender of the patient\n",
        "\n",
        "Sides : Side effects of the drug\n",
        "\n",
        "UsefulCount : Number of users who found the review useful"
      ],
      "metadata": {
        "id": "AY-vCpHc3fiT"
      }
    },
    {
      "cell_type": "markdown",
      "source": [
        "**Understanding the dataset**"
      ],
      "metadata": {
        "id": "JruTjutQ3om0"
      }
    },
    {
      "cell_type": "code",
      "source": [
        "data.head()\n"
      ],
      "metadata": {
        "colab": {
          "base_uri": "https://localhost:8080/",
          "height": 669
        },
        "id": "RnDdf0xZ3qlr",
        "outputId": "914f72cb-ea2a-4c18-914e-f44888565af1"
      },
      "execution_count": 15,
      "outputs": [
        {
          "output_type": "execute_result",
          "data": {
            "text/plain": [
              "               Name   Race         Age      Condition       Date  \\\n",
              "0   Michelle Taylor  White  75 or over    Stuffy Nose  9/21/2014   \n",
              "1  Anna Mendoza DDS  Black       25-34  Cold Symptoms  1/13/2011   \n",
              "2     Donna Mccarty  White       65-74          Other  7/16/2012   \n",
              "3      Heidi Thomas  Black  75 or over          Other  9/23/2010   \n",
              "4     Jessica Cantu  White       35-44          Other   1/6/2009   \n",
              "\n",
              "                           Drug  DrugId  EaseofUse  Effectiveness  \\\n",
              "0                  25dph-7.5peh  146724          5              5   \n",
              "1                  25dph-7.5peh  146724          5              5   \n",
              "2  warfarin (bulk) 100 % powder  144731          2              3   \n",
              "3  warfarin (bulk) 100 % powder  144731          2              2   \n",
              "4  warfarin (bulk) 100 % powder  144731          1              1   \n",
              "\n",
              "                                             Reviews  Satisfaction     Sex  \\\n",
              "0  I'm a retired physician and of all the meds I ...             5    Male   \n",
              "1  cleared me right up even with my throat hurtin...             5  Female   \n",
              "2  why did my PTINR go from a normal of 2.5 to ov...             3  Female   \n",
              "3                       FALLING AND DON'T REALISE IT             1  Female   \n",
              "4  My grandfather was prescribed this medication ...             1    Male   \n",
              "\n",
              "                                               Sides  UsefulCount  \n",
              "0  Drowsiness,  dizziness ,  dry mouth /nose/thro...            0  \n",
              "1  Drowsiness,  dizziness ,  dry mouth /nose/thro...            1  \n",
              "2                                                               0  \n",
              "3                                                               0  \n",
              "4                                                               1  "
            ],
            "text/html": [
              "\n",
              "  <div id=\"df-c4a1d8f9-f3b4-4341-93e3-0caedc222971\">\n",
              "    <div class=\"colab-df-container\">\n",
              "      <div>\n",
              "<style scoped>\n",
              "    .dataframe tbody tr th:only-of-type {\n",
              "        vertical-align: middle;\n",
              "    }\n",
              "\n",
              "    .dataframe tbody tr th {\n",
              "        vertical-align: top;\n",
              "    }\n",
              "\n",
              "    .dataframe thead th {\n",
              "        text-align: right;\n",
              "    }\n",
              "</style>\n",
              "<table border=\"1\" class=\"dataframe\">\n",
              "  <thead>\n",
              "    <tr style=\"text-align: right;\">\n",
              "      <th></th>\n",
              "      <th>Name</th>\n",
              "      <th>Race</th>\n",
              "      <th>Age</th>\n",
              "      <th>Condition</th>\n",
              "      <th>Date</th>\n",
              "      <th>Drug</th>\n",
              "      <th>DrugId</th>\n",
              "      <th>EaseofUse</th>\n",
              "      <th>Effectiveness</th>\n",
              "      <th>Reviews</th>\n",
              "      <th>Satisfaction</th>\n",
              "      <th>Sex</th>\n",
              "      <th>Sides</th>\n",
              "      <th>UsefulCount</th>\n",
              "    </tr>\n",
              "  </thead>\n",
              "  <tbody>\n",
              "    <tr>\n",
              "      <th>0</th>\n",
              "      <td>Michelle Taylor</td>\n",
              "      <td>White</td>\n",
              "      <td>75 or over</td>\n",
              "      <td>Stuffy Nose</td>\n",
              "      <td>9/21/2014</td>\n",
              "      <td>25dph-7.5peh</td>\n",
              "      <td>146724</td>\n",
              "      <td>5</td>\n",
              "      <td>5</td>\n",
              "      <td>I'm a retired physician and of all the meds I ...</td>\n",
              "      <td>5</td>\n",
              "      <td>Male</td>\n",
              "      <td>Drowsiness,  dizziness ,  dry mouth /nose/thro...</td>\n",
              "      <td>0</td>\n",
              "    </tr>\n",
              "    <tr>\n",
              "      <th>1</th>\n",
              "      <td>Anna Mendoza DDS</td>\n",
              "      <td>Black</td>\n",
              "      <td>25-34</td>\n",
              "      <td>Cold Symptoms</td>\n",
              "      <td>1/13/2011</td>\n",
              "      <td>25dph-7.5peh</td>\n",
              "      <td>146724</td>\n",
              "      <td>5</td>\n",
              "      <td>5</td>\n",
              "      <td>cleared me right up even with my throat hurtin...</td>\n",
              "      <td>5</td>\n",
              "      <td>Female</td>\n",
              "      <td>Drowsiness,  dizziness ,  dry mouth /nose/thro...</td>\n",
              "      <td>1</td>\n",
              "    </tr>\n",
              "    <tr>\n",
              "      <th>2</th>\n",
              "      <td>Donna Mccarty</td>\n",
              "      <td>White</td>\n",
              "      <td>65-74</td>\n",
              "      <td>Other</td>\n",
              "      <td>7/16/2012</td>\n",
              "      <td>warfarin (bulk) 100 % powder</td>\n",
              "      <td>144731</td>\n",
              "      <td>2</td>\n",
              "      <td>3</td>\n",
              "      <td>why did my PTINR go from a normal of 2.5 to ov...</td>\n",
              "      <td>3</td>\n",
              "      <td>Female</td>\n",
              "      <td></td>\n",
              "      <td>0</td>\n",
              "    </tr>\n",
              "    <tr>\n",
              "      <th>3</th>\n",
              "      <td>Heidi Thomas</td>\n",
              "      <td>Black</td>\n",
              "      <td>75 or over</td>\n",
              "      <td>Other</td>\n",
              "      <td>9/23/2010</td>\n",
              "      <td>warfarin (bulk) 100 % powder</td>\n",
              "      <td>144731</td>\n",
              "      <td>2</td>\n",
              "      <td>2</td>\n",
              "      <td>FALLING AND DON'T REALISE IT</td>\n",
              "      <td>1</td>\n",
              "      <td>Female</td>\n",
              "      <td></td>\n",
              "      <td>0</td>\n",
              "    </tr>\n",
              "    <tr>\n",
              "      <th>4</th>\n",
              "      <td>Jessica Cantu</td>\n",
              "      <td>White</td>\n",
              "      <td>35-44</td>\n",
              "      <td>Other</td>\n",
              "      <td>1/6/2009</td>\n",
              "      <td>warfarin (bulk) 100 % powder</td>\n",
              "      <td>144731</td>\n",
              "      <td>1</td>\n",
              "      <td>1</td>\n",
              "      <td>My grandfather was prescribed this medication ...</td>\n",
              "      <td>1</td>\n",
              "      <td>Male</td>\n",
              "      <td></td>\n",
              "      <td>1</td>\n",
              "    </tr>\n",
              "  </tbody>\n",
              "</table>\n",
              "</div>\n",
              "      <button class=\"colab-df-convert\" onclick=\"convertToInteractive('df-c4a1d8f9-f3b4-4341-93e3-0caedc222971')\"\n",
              "              title=\"Convert this dataframe to an interactive table.\"\n",
              "              style=\"display:none;\">\n",
              "        \n",
              "  <svg xmlns=\"http://www.w3.org/2000/svg\" height=\"24px\"viewBox=\"0 0 24 24\"\n",
              "       width=\"24px\">\n",
              "    <path d=\"M0 0h24v24H0V0z\" fill=\"none\"/>\n",
              "    <path d=\"M18.56 5.44l.94 2.06.94-2.06 2.06-.94-2.06-.94-.94-2.06-.94 2.06-2.06.94zm-11 1L8.5 8.5l.94-2.06 2.06-.94-2.06-.94L8.5 2.5l-.94 2.06-2.06.94zm10 10l.94 2.06.94-2.06 2.06-.94-2.06-.94-.94-2.06-.94 2.06-2.06.94z\"/><path d=\"M17.41 7.96l-1.37-1.37c-.4-.4-.92-.59-1.43-.59-.52 0-1.04.2-1.43.59L10.3 9.45l-7.72 7.72c-.78.78-.78 2.05 0 2.83L4 21.41c.39.39.9.59 1.41.59.51 0 1.02-.2 1.41-.59l7.78-7.78 2.81-2.81c.8-.78.8-2.07 0-2.86zM5.41 20L4 18.59l7.72-7.72 1.47 1.35L5.41 20z\"/>\n",
              "  </svg>\n",
              "      </button>\n",
              "      \n",
              "  <style>\n",
              "    .colab-df-container {\n",
              "      display:flex;\n",
              "      flex-wrap:wrap;\n",
              "      gap: 12px;\n",
              "    }\n",
              "\n",
              "    .colab-df-convert {\n",
              "      background-color: #E8F0FE;\n",
              "      border: none;\n",
              "      border-radius: 50%;\n",
              "      cursor: pointer;\n",
              "      display: none;\n",
              "      fill: #1967D2;\n",
              "      height: 32px;\n",
              "      padding: 0 0 0 0;\n",
              "      width: 32px;\n",
              "    }\n",
              "\n",
              "    .colab-df-convert:hover {\n",
              "      background-color: #E2EBFA;\n",
              "      box-shadow: 0px 1px 2px rgba(60, 64, 67, 0.3), 0px 1px 3px 1px rgba(60, 64, 67, 0.15);\n",
              "      fill: #174EA6;\n",
              "    }\n",
              "\n",
              "    [theme=dark] .colab-df-convert {\n",
              "      background-color: #3B4455;\n",
              "      fill: #D2E3FC;\n",
              "    }\n",
              "\n",
              "    [theme=dark] .colab-df-convert:hover {\n",
              "      background-color: #434B5C;\n",
              "      box-shadow: 0px 1px 3px 1px rgba(0, 0, 0, 0.15);\n",
              "      filter: drop-shadow(0px 1px 2px rgba(0, 0, 0, 0.3));\n",
              "      fill: #FFFFFF;\n",
              "    }\n",
              "  </style>\n",
              "\n",
              "      <script>\n",
              "        const buttonEl =\n",
              "          document.querySelector('#df-c4a1d8f9-f3b4-4341-93e3-0caedc222971 button.colab-df-convert');\n",
              "        buttonEl.style.display =\n",
              "          google.colab.kernel.accessAllowed ? 'block' : 'none';\n",
              "\n",
              "        async function convertToInteractive(key) {\n",
              "          const element = document.querySelector('#df-c4a1d8f9-f3b4-4341-93e3-0caedc222971');\n",
              "          const dataTable =\n",
              "            await google.colab.kernel.invokeFunction('convertToInteractive',\n",
              "                                                     [key], {});\n",
              "          if (!dataTable) return;\n",
              "\n",
              "          const docLinkHtml = 'Like what you see? Visit the ' +\n",
              "            '<a target=\"_blank\" href=https://colab.research.google.com/notebooks/data_table.ipynb>data table notebook</a>'\n",
              "            + ' to learn more about interactive tables.';\n",
              "          element.innerHTML = '';\n",
              "          dataTable['output_type'] = 'display_data';\n",
              "          await google.colab.output.renderOutput(dataTable, element);\n",
              "          const docLink = document.createElement('div');\n",
              "          docLink.innerHTML = docLinkHtml;\n",
              "          element.appendChild(docLink);\n",
              "        }\n",
              "      </script>\n",
              "    </div>\n",
              "  </div>\n",
              "  "
            ]
          },
          "metadata": {},
          "execution_count": 15
        }
      ]
    },
    {
      "cell_type": "code",
      "source": [
        "data.tail()\n"
      ],
      "metadata": {
        "colab": {
          "base_uri": "https://localhost:8080/",
          "height": 669
        },
        "id": "kXKdO9Ff3t5J",
        "outputId": "dd69a0d8-4319-4407-85f5-a3e9a425086f"
      },
      "execution_count": 16,
      "outputs": [
        {
          "output_type": "execute_result",
          "data": {
            "text/plain": [
              "                   Name   Race    Age     Condition        Date     Drug  \\\n",
              "362801     Deanna Brown  Asian  55-64  Stop Smoking  11/14/2008  chantix   \n",
              "362802     Ashley Doyle  White                Other  11/14/2008  chantix   \n",
              "362803    Albert Valdez  White  25-34  Stop Smoking  11/13/2008  chantix   \n",
              "362804  Stephanie Wolfe  White  55-64  Stop Smoking  11/13/2008  chantix   \n",
              "362805     Anthony King  White  45-54  Stop Smoking  11/12/2008  chantix   \n",
              "\n",
              "        DrugId  EaseofUse  Effectiveness  \\\n",
              "362801  144470          5              5   \n",
              "362802  144470          2              3   \n",
              "362803  144470          2              4   \n",
              "362804  144470          5              5   \n",
              "362805  144470          4              5   \n",
              "\n",
              "                                                  Reviews  Satisfaction  \\\n",
              "362801  I took the whole 12 weeks.I could have stopped...             5   \n",
              "362802  My dad strated taking Chantix about 1 month ag...             1   \n",
              "362803  As long as I was on chantix, I didn't smoke.  ...             2   \n",
              "362804  Started this medication Oct 5th 2008. Haven't ...             5   \n",
              "362805  One year ago, I tried Chantix and had to stop ...             5   \n",
              "\n",
              "           Sex                                              Sides  UsefulCount  \n",
              "362801  Female  Nausea ,  headache ,  vomiting , drowsiness, g...            2  \n",
              "362802          Nausea ,  headache ,  vomiting , drowsiness, g...           16  \n",
              "362803  Female  Nausea ,  headache ,  vomiting , drowsiness, g...            3  \n",
              "362804    Male  Nausea ,  headache ,  vomiting , drowsiness, g...            1  \n",
              "362805  Female  Nausea ,  headache ,  vomiting , drowsiness, g...            3  "
            ],
            "text/html": [
              "\n",
              "  <div id=\"df-2ccdbfc2-9382-432a-9451-04ea94308939\">\n",
              "    <div class=\"colab-df-container\">\n",
              "      <div>\n",
              "<style scoped>\n",
              "    .dataframe tbody tr th:only-of-type {\n",
              "        vertical-align: middle;\n",
              "    }\n",
              "\n",
              "    .dataframe tbody tr th {\n",
              "        vertical-align: top;\n",
              "    }\n",
              "\n",
              "    .dataframe thead th {\n",
              "        text-align: right;\n",
              "    }\n",
              "</style>\n",
              "<table border=\"1\" class=\"dataframe\">\n",
              "  <thead>\n",
              "    <tr style=\"text-align: right;\">\n",
              "      <th></th>\n",
              "      <th>Name</th>\n",
              "      <th>Race</th>\n",
              "      <th>Age</th>\n",
              "      <th>Condition</th>\n",
              "      <th>Date</th>\n",
              "      <th>Drug</th>\n",
              "      <th>DrugId</th>\n",
              "      <th>EaseofUse</th>\n",
              "      <th>Effectiveness</th>\n",
              "      <th>Reviews</th>\n",
              "      <th>Satisfaction</th>\n",
              "      <th>Sex</th>\n",
              "      <th>Sides</th>\n",
              "      <th>UsefulCount</th>\n",
              "    </tr>\n",
              "  </thead>\n",
              "  <tbody>\n",
              "    <tr>\n",
              "      <th>362801</th>\n",
              "      <td>Deanna Brown</td>\n",
              "      <td>Asian</td>\n",
              "      <td>55-64</td>\n",
              "      <td>Stop Smoking</td>\n",
              "      <td>11/14/2008</td>\n",
              "      <td>chantix</td>\n",
              "      <td>144470</td>\n",
              "      <td>5</td>\n",
              "      <td>5</td>\n",
              "      <td>I took the whole 12 weeks.I could have stopped...</td>\n",
              "      <td>5</td>\n",
              "      <td>Female</td>\n",
              "      <td>Nausea ,  headache ,  vomiting , drowsiness, g...</td>\n",
              "      <td>2</td>\n",
              "    </tr>\n",
              "    <tr>\n",
              "      <th>362802</th>\n",
              "      <td>Ashley Doyle</td>\n",
              "      <td>White</td>\n",
              "      <td></td>\n",
              "      <td>Other</td>\n",
              "      <td>11/14/2008</td>\n",
              "      <td>chantix</td>\n",
              "      <td>144470</td>\n",
              "      <td>2</td>\n",
              "      <td>3</td>\n",
              "      <td>My dad strated taking Chantix about 1 month ag...</td>\n",
              "      <td>1</td>\n",
              "      <td></td>\n",
              "      <td>Nausea ,  headache ,  vomiting , drowsiness, g...</td>\n",
              "      <td>16</td>\n",
              "    </tr>\n",
              "    <tr>\n",
              "      <th>362803</th>\n",
              "      <td>Albert Valdez</td>\n",
              "      <td>White</td>\n",
              "      <td>25-34</td>\n",
              "      <td>Stop Smoking</td>\n",
              "      <td>11/13/2008</td>\n",
              "      <td>chantix</td>\n",
              "      <td>144470</td>\n",
              "      <td>2</td>\n",
              "      <td>4</td>\n",
              "      <td>As long as I was on chantix, I didn't smoke.  ...</td>\n",
              "      <td>2</td>\n",
              "      <td>Female</td>\n",
              "      <td>Nausea ,  headache ,  vomiting , drowsiness, g...</td>\n",
              "      <td>3</td>\n",
              "    </tr>\n",
              "    <tr>\n",
              "      <th>362804</th>\n",
              "      <td>Stephanie Wolfe</td>\n",
              "      <td>White</td>\n",
              "      <td>55-64</td>\n",
              "      <td>Stop Smoking</td>\n",
              "      <td>11/13/2008</td>\n",
              "      <td>chantix</td>\n",
              "      <td>144470</td>\n",
              "      <td>5</td>\n",
              "      <td>5</td>\n",
              "      <td>Started this medication Oct 5th 2008. Haven't ...</td>\n",
              "      <td>5</td>\n",
              "      <td>Male</td>\n",
              "      <td>Nausea ,  headache ,  vomiting , drowsiness, g...</td>\n",
              "      <td>1</td>\n",
              "    </tr>\n",
              "    <tr>\n",
              "      <th>362805</th>\n",
              "      <td>Anthony King</td>\n",
              "      <td>White</td>\n",
              "      <td>45-54</td>\n",
              "      <td>Stop Smoking</td>\n",
              "      <td>11/12/2008</td>\n",
              "      <td>chantix</td>\n",
              "      <td>144470</td>\n",
              "      <td>4</td>\n",
              "      <td>5</td>\n",
              "      <td>One year ago, I tried Chantix and had to stop ...</td>\n",
              "      <td>5</td>\n",
              "      <td>Female</td>\n",
              "      <td>Nausea ,  headache ,  vomiting , drowsiness, g...</td>\n",
              "      <td>3</td>\n",
              "    </tr>\n",
              "  </tbody>\n",
              "</table>\n",
              "</div>\n",
              "      <button class=\"colab-df-convert\" onclick=\"convertToInteractive('df-2ccdbfc2-9382-432a-9451-04ea94308939')\"\n",
              "              title=\"Convert this dataframe to an interactive table.\"\n",
              "              style=\"display:none;\">\n",
              "        \n",
              "  <svg xmlns=\"http://www.w3.org/2000/svg\" height=\"24px\"viewBox=\"0 0 24 24\"\n",
              "       width=\"24px\">\n",
              "    <path d=\"M0 0h24v24H0V0z\" fill=\"none\"/>\n",
              "    <path d=\"M18.56 5.44l.94 2.06.94-2.06 2.06-.94-2.06-.94-.94-2.06-.94 2.06-2.06.94zm-11 1L8.5 8.5l.94-2.06 2.06-.94-2.06-.94L8.5 2.5l-.94 2.06-2.06.94zm10 10l.94 2.06.94-2.06 2.06-.94-2.06-.94-.94-2.06-.94 2.06-2.06.94z\"/><path d=\"M17.41 7.96l-1.37-1.37c-.4-.4-.92-.59-1.43-.59-.52 0-1.04.2-1.43.59L10.3 9.45l-7.72 7.72c-.78.78-.78 2.05 0 2.83L4 21.41c.39.39.9.59 1.41.59.51 0 1.02-.2 1.41-.59l7.78-7.78 2.81-2.81c.8-.78.8-2.07 0-2.86zM5.41 20L4 18.59l7.72-7.72 1.47 1.35L5.41 20z\"/>\n",
              "  </svg>\n",
              "      </button>\n",
              "      \n",
              "  <style>\n",
              "    .colab-df-container {\n",
              "      display:flex;\n",
              "      flex-wrap:wrap;\n",
              "      gap: 12px;\n",
              "    }\n",
              "\n",
              "    .colab-df-convert {\n",
              "      background-color: #E8F0FE;\n",
              "      border: none;\n",
              "      border-radius: 50%;\n",
              "      cursor: pointer;\n",
              "      display: none;\n",
              "      fill: #1967D2;\n",
              "      height: 32px;\n",
              "      padding: 0 0 0 0;\n",
              "      width: 32px;\n",
              "    }\n",
              "\n",
              "    .colab-df-convert:hover {\n",
              "      background-color: #E2EBFA;\n",
              "      box-shadow: 0px 1px 2px rgba(60, 64, 67, 0.3), 0px 1px 3px 1px rgba(60, 64, 67, 0.15);\n",
              "      fill: #174EA6;\n",
              "    }\n",
              "\n",
              "    [theme=dark] .colab-df-convert {\n",
              "      background-color: #3B4455;\n",
              "      fill: #D2E3FC;\n",
              "    }\n",
              "\n",
              "    [theme=dark] .colab-df-convert:hover {\n",
              "      background-color: #434B5C;\n",
              "      box-shadow: 0px 1px 3px 1px rgba(0, 0, 0, 0.15);\n",
              "      filter: drop-shadow(0px 1px 2px rgba(0, 0, 0, 0.3));\n",
              "      fill: #FFFFFF;\n",
              "    }\n",
              "  </style>\n",
              "\n",
              "      <script>\n",
              "        const buttonEl =\n",
              "          document.querySelector('#df-2ccdbfc2-9382-432a-9451-04ea94308939 button.colab-df-convert');\n",
              "        buttonEl.style.display =\n",
              "          google.colab.kernel.accessAllowed ? 'block' : 'none';\n",
              "\n",
              "        async function convertToInteractive(key) {\n",
              "          const element = document.querySelector('#df-2ccdbfc2-9382-432a-9451-04ea94308939');\n",
              "          const dataTable =\n",
              "            await google.colab.kernel.invokeFunction('convertToInteractive',\n",
              "                                                     [key], {});\n",
              "          if (!dataTable) return;\n",
              "\n",
              "          const docLinkHtml = 'Like what you see? Visit the ' +\n",
              "            '<a target=\"_blank\" href=https://colab.research.google.com/notebooks/data_table.ipynb>data table notebook</a>'\n",
              "            + ' to learn more about interactive tables.';\n",
              "          element.innerHTML = '';\n",
              "          dataTable['output_type'] = 'display_data';\n",
              "          await google.colab.output.renderOutput(dataTable, element);\n",
              "          const docLink = document.createElement('div');\n",
              "          docLink.innerHTML = docLinkHtml;\n",
              "          element.appendChild(docLink);\n",
              "        }\n",
              "      </script>\n",
              "    </div>\n",
              "  </div>\n",
              "  "
            ]
          },
          "metadata": {},
          "execution_count": 16
        }
      ]
    },
    {
      "cell_type": "code",
      "source": [
        "data.info()\n"
      ],
      "metadata": {
        "colab": {
          "base_uri": "https://localhost:8080/"
        },
        "id": "XalIHPrn3wCD",
        "outputId": "268a00fa-1e2d-4fa7-aa67-c2772b372fe8"
      },
      "execution_count": 17,
      "outputs": [
        {
          "output_type": "stream",
          "name": "stdout",
          "text": [
            "<class 'pandas.core.frame.DataFrame'>\n",
            "RangeIndex: 362806 entries, 0 to 362805\n",
            "Data columns (total 14 columns):\n",
            " #   Column         Non-Null Count   Dtype \n",
            "---  ------         --------------   ----- \n",
            " 0   Name           362806 non-null  object\n",
            " 1   Race           362806 non-null  object\n",
            " 2   Age            362806 non-null  object\n",
            " 3   Condition      362806 non-null  object\n",
            " 4   Date           362806 non-null  object\n",
            " 5   Drug           362806 non-null  object\n",
            " 6   DrugId         362806 non-null  int64 \n",
            " 7   EaseofUse      362806 non-null  int64 \n",
            " 8   Effectiveness  362806 non-null  int64 \n",
            " 9   Reviews        362769 non-null  object\n",
            " 10  Satisfaction   362806 non-null  int64 \n",
            " 11  Sex            362806 non-null  object\n",
            " 12  Sides          362806 non-null  object\n",
            " 13  UsefulCount    362806 non-null  int64 \n",
            "dtypes: int64(5), object(9)\n",
            "memory usage: 38.8+ MB\n"
          ]
        }
      ]
    },
    {
      "cell_type": "markdown",
      "source": [
        "Insight:\n",
        "\n",
        "The info() method will give summary of the dataset. We can know the basic information about the dataset including the type of columns, non-null values and memory usage. This dataset contains 9 categorical variables and 5 integer variables."
      ],
      "metadata": {
        "id": "kYXpP3JI319-"
      }
    },
    {
      "cell_type": "code",
      "source": [
        "data.shape\n"
      ],
      "metadata": {
        "colab": {
          "base_uri": "https://localhost:8080/"
        },
        "id": "9wRtWJCz38mQ",
        "outputId": "ee5ba010-5c4d-4869-f648-90fe7b111c2d"
      },
      "execution_count": 18,
      "outputs": [
        {
          "output_type": "execute_result",
          "data": {
            "text/plain": [
              "(362806, 14)"
            ]
          },
          "metadata": {},
          "execution_count": 18
        }
      ]
    },
    {
      "cell_type": "markdown",
      "source": [
        "Insight:\n",
        "\n",
        "The dataset contains 362806 rows and 14 columns."
      ],
      "metadata": {
        "id": "ou1EEOaw4DTP"
      }
    },
    {
      "cell_type": "markdown",
      "source": [
        "**Checking for any NULL values**"
      ],
      "metadata": {
        "id": "mX8BK57k4Jn6"
      }
    },
    {
      "cell_type": "code",
      "source": [
        "data.isnull().any()\n"
      ],
      "metadata": {
        "colab": {
          "base_uri": "https://localhost:8080/"
        },
        "id": "OPokt8lO4LKo",
        "outputId": "0c3e7e42-d5ac-4183-becc-ca0047293435"
      },
      "execution_count": 19,
      "outputs": [
        {
          "output_type": "execute_result",
          "data": {
            "text/plain": [
              "Name             False\n",
              "Race             False\n",
              "Age              False\n",
              "Condition        False\n",
              "Date             False\n",
              "Drug             False\n",
              "DrugId           False\n",
              "EaseofUse        False\n",
              "Effectiveness    False\n",
              "Reviews           True\n",
              "Satisfaction     False\n",
              "Sex              False\n",
              "Sides            False\n",
              "UsefulCount      False\n",
              "dtype: bool"
            ]
          },
          "metadata": {},
          "execution_count": 19
        }
      ]
    },
    {
      "cell_type": "code",
      "source": [
        "data.isna().sum()\n"
      ],
      "metadata": {
        "colab": {
          "base_uri": "https://localhost:8080/"
        },
        "id": "x2B9C4Za4Na9",
        "outputId": "556d9934-1c7c-4620-eb67-cc3ff3e16ec6"
      },
      "execution_count": 20,
      "outputs": [
        {
          "output_type": "execute_result",
          "data": {
            "text/plain": [
              "Name              0\n",
              "Race              0\n",
              "Age               0\n",
              "Condition         0\n",
              "Date              0\n",
              "Drug              0\n",
              "DrugId            0\n",
              "EaseofUse         0\n",
              "Effectiveness     0\n",
              "Reviews          37\n",
              "Satisfaction      0\n",
              "Sex               0\n",
              "Sides             0\n",
              "UsefulCount       0\n",
              "dtype: int64"
            ]
          },
          "metadata": {},
          "execution_count": 20
        }
      ]
    },
    {
      "cell_type": "markdown",
      "source": [
        "**Insight**:\n",
        "\n",
        "'Reviews' column has 37 missing values."
      ],
      "metadata": {
        "id": "Gg_WycnW4Vfl"
      }
    },
    {
      "cell_type": "markdown",
      "source": [
        "**Datatypes of columns**\n"
      ],
      "metadata": {
        "id": "XICx5e0_4cmM"
      }
    },
    {
      "cell_type": "code",
      "source": [
        "data.dtypes\n"
      ],
      "metadata": {
        "colab": {
          "base_uri": "https://localhost:8080/"
        },
        "id": "Mjts1lwL4gS-",
        "outputId": "06a8365d-0441-49f2-c449-3dcde085c775"
      },
      "execution_count": 21,
      "outputs": [
        {
          "output_type": "execute_result",
          "data": {
            "text/plain": [
              "Name             object\n",
              "Race             object\n",
              "Age              object\n",
              "Condition        object\n",
              "Date             object\n",
              "Drug             object\n",
              "DrugId            int64\n",
              "EaseofUse         int64\n",
              "Effectiveness     int64\n",
              "Reviews          object\n",
              "Satisfaction      int64\n",
              "Sex              object\n",
              "Sides            object\n",
              "UsefulCount       int64\n",
              "dtype: object"
            ]
          },
          "metadata": {},
          "execution_count": 21
        }
      ]
    },
    {
      "cell_type": "markdown",
      "source": [
        "**Insight**:\n",
        "\n",
        "The dataset contains five integer datatype fields and nine object datatype fields."
      ],
      "metadata": {
        "id": "BIvtGRU84k10"
      }
    },
    {
      "cell_type": "markdown",
      "source": [
        "**Descriptive statistics**"
      ],
      "metadata": {
        "id": "gXwVYr-u4wsk"
      }
    },
    {
      "cell_type": "code",
      "source": [
        "data.describe()\n"
      ],
      "metadata": {
        "colab": {
          "base_uri": "https://localhost:8080/",
          "height": 300
        },
        "id": "ZeG-iHvy4yP2",
        "outputId": "1eba2c33-6ab7-49e8-c0dd-1be3f1fbd18d"
      },
      "execution_count": 22,
      "outputs": [
        {
          "output_type": "execute_result",
          "data": {
            "text/plain": [
              "              DrugId      EaseofUse  Effectiveness   Satisfaction  \\\n",
              "count  362806.000000  362806.000000  362806.000000  362806.000000   \n",
              "mean    36879.370774       4.019829       3.532061       3.135408   \n",
              "std     52624.412971       1.317711       1.455961       1.611106   \n",
              "min         1.000000       1.000000       1.000000       1.000000   \n",
              "25%      4896.000000       3.000000       3.000000       1.000000   \n",
              "50%      9548.000000       5.000000       4.000000       3.000000   \n",
              "75%     63522.000000       5.000000       5.000000       5.000000   \n",
              "max    178546.000000      10.000000      10.000000      10.000000   \n",
              "\n",
              "         UsefulCount  \n",
              "count  362806.000000  \n",
              "mean        6.744916  \n",
              "std         9.324240  \n",
              "min         0.000000  \n",
              "25%         1.000000  \n",
              "50%         4.000000  \n",
              "75%         9.000000  \n",
              "max       255.000000  "
            ],
            "text/html": [
              "\n",
              "  <div id=\"df-c853f6a5-13d2-4f65-b7e4-5cfd1b5bc4c3\">\n",
              "    <div class=\"colab-df-container\">\n",
              "      <div>\n",
              "<style scoped>\n",
              "    .dataframe tbody tr th:only-of-type {\n",
              "        vertical-align: middle;\n",
              "    }\n",
              "\n",
              "    .dataframe tbody tr th {\n",
              "        vertical-align: top;\n",
              "    }\n",
              "\n",
              "    .dataframe thead th {\n",
              "        text-align: right;\n",
              "    }\n",
              "</style>\n",
              "<table border=\"1\" class=\"dataframe\">\n",
              "  <thead>\n",
              "    <tr style=\"text-align: right;\">\n",
              "      <th></th>\n",
              "      <th>DrugId</th>\n",
              "      <th>EaseofUse</th>\n",
              "      <th>Effectiveness</th>\n",
              "      <th>Satisfaction</th>\n",
              "      <th>UsefulCount</th>\n",
              "    </tr>\n",
              "  </thead>\n",
              "  <tbody>\n",
              "    <tr>\n",
              "      <th>count</th>\n",
              "      <td>362806.000000</td>\n",
              "      <td>362806.000000</td>\n",
              "      <td>362806.000000</td>\n",
              "      <td>362806.000000</td>\n",
              "      <td>362806.000000</td>\n",
              "    </tr>\n",
              "    <tr>\n",
              "      <th>mean</th>\n",
              "      <td>36879.370774</td>\n",
              "      <td>4.019829</td>\n",
              "      <td>3.532061</td>\n",
              "      <td>3.135408</td>\n",
              "      <td>6.744916</td>\n",
              "    </tr>\n",
              "    <tr>\n",
              "      <th>std</th>\n",
              "      <td>52624.412971</td>\n",
              "      <td>1.317711</td>\n",
              "      <td>1.455961</td>\n",
              "      <td>1.611106</td>\n",
              "      <td>9.324240</td>\n",
              "    </tr>\n",
              "    <tr>\n",
              "      <th>min</th>\n",
              "      <td>1.000000</td>\n",
              "      <td>1.000000</td>\n",
              "      <td>1.000000</td>\n",
              "      <td>1.000000</td>\n",
              "      <td>0.000000</td>\n",
              "    </tr>\n",
              "    <tr>\n",
              "      <th>25%</th>\n",
              "      <td>4896.000000</td>\n",
              "      <td>3.000000</td>\n",
              "      <td>3.000000</td>\n",
              "      <td>1.000000</td>\n",
              "      <td>1.000000</td>\n",
              "    </tr>\n",
              "    <tr>\n",
              "      <th>50%</th>\n",
              "      <td>9548.000000</td>\n",
              "      <td>5.000000</td>\n",
              "      <td>4.000000</td>\n",
              "      <td>3.000000</td>\n",
              "      <td>4.000000</td>\n",
              "    </tr>\n",
              "    <tr>\n",
              "      <th>75%</th>\n",
              "      <td>63522.000000</td>\n",
              "      <td>5.000000</td>\n",
              "      <td>5.000000</td>\n",
              "      <td>5.000000</td>\n",
              "      <td>9.000000</td>\n",
              "    </tr>\n",
              "    <tr>\n",
              "      <th>max</th>\n",
              "      <td>178546.000000</td>\n",
              "      <td>10.000000</td>\n",
              "      <td>10.000000</td>\n",
              "      <td>10.000000</td>\n",
              "      <td>255.000000</td>\n",
              "    </tr>\n",
              "  </tbody>\n",
              "</table>\n",
              "</div>\n",
              "      <button class=\"colab-df-convert\" onclick=\"convertToInteractive('df-c853f6a5-13d2-4f65-b7e4-5cfd1b5bc4c3')\"\n",
              "              title=\"Convert this dataframe to an interactive table.\"\n",
              "              style=\"display:none;\">\n",
              "        \n",
              "  <svg xmlns=\"http://www.w3.org/2000/svg\" height=\"24px\"viewBox=\"0 0 24 24\"\n",
              "       width=\"24px\">\n",
              "    <path d=\"M0 0h24v24H0V0z\" fill=\"none\"/>\n",
              "    <path d=\"M18.56 5.44l.94 2.06.94-2.06 2.06-.94-2.06-.94-.94-2.06-.94 2.06-2.06.94zm-11 1L8.5 8.5l.94-2.06 2.06-.94-2.06-.94L8.5 2.5l-.94 2.06-2.06.94zm10 10l.94 2.06.94-2.06 2.06-.94-2.06-.94-.94-2.06-.94 2.06-2.06.94z\"/><path d=\"M17.41 7.96l-1.37-1.37c-.4-.4-.92-.59-1.43-.59-.52 0-1.04.2-1.43.59L10.3 9.45l-7.72 7.72c-.78.78-.78 2.05 0 2.83L4 21.41c.39.39.9.59 1.41.59.51 0 1.02-.2 1.41-.59l7.78-7.78 2.81-2.81c.8-.78.8-2.07 0-2.86zM5.41 20L4 18.59l7.72-7.72 1.47 1.35L5.41 20z\"/>\n",
              "  </svg>\n",
              "      </button>\n",
              "      \n",
              "  <style>\n",
              "    .colab-df-container {\n",
              "      display:flex;\n",
              "      flex-wrap:wrap;\n",
              "      gap: 12px;\n",
              "    }\n",
              "\n",
              "    .colab-df-convert {\n",
              "      background-color: #E8F0FE;\n",
              "      border: none;\n",
              "      border-radius: 50%;\n",
              "      cursor: pointer;\n",
              "      display: none;\n",
              "      fill: #1967D2;\n",
              "      height: 32px;\n",
              "      padding: 0 0 0 0;\n",
              "      width: 32px;\n",
              "    }\n",
              "\n",
              "    .colab-df-convert:hover {\n",
              "      background-color: #E2EBFA;\n",
              "      box-shadow: 0px 1px 2px rgba(60, 64, 67, 0.3), 0px 1px 3px 1px rgba(60, 64, 67, 0.15);\n",
              "      fill: #174EA6;\n",
              "    }\n",
              "\n",
              "    [theme=dark] .colab-df-convert {\n",
              "      background-color: #3B4455;\n",
              "      fill: #D2E3FC;\n",
              "    }\n",
              "\n",
              "    [theme=dark] .colab-df-convert:hover {\n",
              "      background-color: #434B5C;\n",
              "      box-shadow: 0px 1px 3px 1px rgba(0, 0, 0, 0.15);\n",
              "      filter: drop-shadow(0px 1px 2px rgba(0, 0, 0, 0.3));\n",
              "      fill: #FFFFFF;\n",
              "    }\n",
              "  </style>\n",
              "\n",
              "      <script>\n",
              "        const buttonEl =\n",
              "          document.querySelector('#df-c853f6a5-13d2-4f65-b7e4-5cfd1b5bc4c3 button.colab-df-convert');\n",
              "        buttonEl.style.display =\n",
              "          google.colab.kernel.accessAllowed ? 'block' : 'none';\n",
              "\n",
              "        async function convertToInteractive(key) {\n",
              "          const element = document.querySelector('#df-c853f6a5-13d2-4f65-b7e4-5cfd1b5bc4c3');\n",
              "          const dataTable =\n",
              "            await google.colab.kernel.invokeFunction('convertToInteractive',\n",
              "                                                     [key], {});\n",
              "          if (!dataTable) return;\n",
              "\n",
              "          const docLinkHtml = 'Like what you see? Visit the ' +\n",
              "            '<a target=\"_blank\" href=https://colab.research.google.com/notebooks/data_table.ipynb>data table notebook</a>'\n",
              "            + ' to learn more about interactive tables.';\n",
              "          element.innerHTML = '';\n",
              "          dataTable['output_type'] = 'display_data';\n",
              "          await google.colab.output.renderOutput(dataTable, element);\n",
              "          const docLink = document.createElement('div');\n",
              "          docLink.innerHTML = docLinkHtml;\n",
              "          element.appendChild(docLink);\n",
              "        }\n",
              "      </script>\n",
              "    </div>\n",
              "  </div>\n",
              "  "
            ]
          },
          "metadata": {},
          "execution_count": 22
        }
      ]
    },
    {
      "cell_type": "code",
      "source": [
        "data.describe().T\n"
      ],
      "metadata": {
        "colab": {
          "base_uri": "https://localhost:8080/",
          "height": 206
        },
        "id": "832Ve4uB4z3F",
        "outputId": "13e208f1-3dbc-4adf-a0aa-91983b1ec7ba"
      },
      "execution_count": 23,
      "outputs": [
        {
          "output_type": "execute_result",
          "data": {
            "text/plain": [
              "                  count          mean           std  min     25%     50%  \\\n",
              "DrugId         362806.0  36879.370774  52624.412971  1.0  4896.0  9548.0   \n",
              "EaseofUse      362806.0      4.019829      1.317711  1.0     3.0     5.0   \n",
              "Effectiveness  362806.0      3.532061      1.455961  1.0     3.0     4.0   \n",
              "Satisfaction   362806.0      3.135408      1.611106  1.0     1.0     3.0   \n",
              "UsefulCount    362806.0      6.744916      9.324240  0.0     1.0     4.0   \n",
              "\n",
              "                   75%       max  \n",
              "DrugId         63522.0  178546.0  \n",
              "EaseofUse          5.0      10.0  \n",
              "Effectiveness      5.0      10.0  \n",
              "Satisfaction       5.0      10.0  \n",
              "UsefulCount        9.0     255.0  "
            ],
            "text/html": [
              "\n",
              "  <div id=\"df-87b58cb9-36d8-47cb-9830-6c7a692eb8ff\">\n",
              "    <div class=\"colab-df-container\">\n",
              "      <div>\n",
              "<style scoped>\n",
              "    .dataframe tbody tr th:only-of-type {\n",
              "        vertical-align: middle;\n",
              "    }\n",
              "\n",
              "    .dataframe tbody tr th {\n",
              "        vertical-align: top;\n",
              "    }\n",
              "\n",
              "    .dataframe thead th {\n",
              "        text-align: right;\n",
              "    }\n",
              "</style>\n",
              "<table border=\"1\" class=\"dataframe\">\n",
              "  <thead>\n",
              "    <tr style=\"text-align: right;\">\n",
              "      <th></th>\n",
              "      <th>count</th>\n",
              "      <th>mean</th>\n",
              "      <th>std</th>\n",
              "      <th>min</th>\n",
              "      <th>25%</th>\n",
              "      <th>50%</th>\n",
              "      <th>75%</th>\n",
              "      <th>max</th>\n",
              "    </tr>\n",
              "  </thead>\n",
              "  <tbody>\n",
              "    <tr>\n",
              "      <th>DrugId</th>\n",
              "      <td>362806.0</td>\n",
              "      <td>36879.370774</td>\n",
              "      <td>52624.412971</td>\n",
              "      <td>1.0</td>\n",
              "      <td>4896.0</td>\n",
              "      <td>9548.0</td>\n",
              "      <td>63522.0</td>\n",
              "      <td>178546.0</td>\n",
              "    </tr>\n",
              "    <tr>\n",
              "      <th>EaseofUse</th>\n",
              "      <td>362806.0</td>\n",
              "      <td>4.019829</td>\n",
              "      <td>1.317711</td>\n",
              "      <td>1.0</td>\n",
              "      <td>3.0</td>\n",
              "      <td>5.0</td>\n",
              "      <td>5.0</td>\n",
              "      <td>10.0</td>\n",
              "    </tr>\n",
              "    <tr>\n",
              "      <th>Effectiveness</th>\n",
              "      <td>362806.0</td>\n",
              "      <td>3.532061</td>\n",
              "      <td>1.455961</td>\n",
              "      <td>1.0</td>\n",
              "      <td>3.0</td>\n",
              "      <td>4.0</td>\n",
              "      <td>5.0</td>\n",
              "      <td>10.0</td>\n",
              "    </tr>\n",
              "    <tr>\n",
              "      <th>Satisfaction</th>\n",
              "      <td>362806.0</td>\n",
              "      <td>3.135408</td>\n",
              "      <td>1.611106</td>\n",
              "      <td>1.0</td>\n",
              "      <td>1.0</td>\n",
              "      <td>3.0</td>\n",
              "      <td>5.0</td>\n",
              "      <td>10.0</td>\n",
              "    </tr>\n",
              "    <tr>\n",
              "      <th>UsefulCount</th>\n",
              "      <td>362806.0</td>\n",
              "      <td>6.744916</td>\n",
              "      <td>9.324240</td>\n",
              "      <td>0.0</td>\n",
              "      <td>1.0</td>\n",
              "      <td>4.0</td>\n",
              "      <td>9.0</td>\n",
              "      <td>255.0</td>\n",
              "    </tr>\n",
              "  </tbody>\n",
              "</table>\n",
              "</div>\n",
              "      <button class=\"colab-df-convert\" onclick=\"convertToInteractive('df-87b58cb9-36d8-47cb-9830-6c7a692eb8ff')\"\n",
              "              title=\"Convert this dataframe to an interactive table.\"\n",
              "              style=\"display:none;\">\n",
              "        \n",
              "  <svg xmlns=\"http://www.w3.org/2000/svg\" height=\"24px\"viewBox=\"0 0 24 24\"\n",
              "       width=\"24px\">\n",
              "    <path d=\"M0 0h24v24H0V0z\" fill=\"none\"/>\n",
              "    <path d=\"M18.56 5.44l.94 2.06.94-2.06 2.06-.94-2.06-.94-.94-2.06-.94 2.06-2.06.94zm-11 1L8.5 8.5l.94-2.06 2.06-.94-2.06-.94L8.5 2.5l-.94 2.06-2.06.94zm10 10l.94 2.06.94-2.06 2.06-.94-2.06-.94-.94-2.06-.94 2.06-2.06.94z\"/><path d=\"M17.41 7.96l-1.37-1.37c-.4-.4-.92-.59-1.43-.59-.52 0-1.04.2-1.43.59L10.3 9.45l-7.72 7.72c-.78.78-.78 2.05 0 2.83L4 21.41c.39.39.9.59 1.41.59.51 0 1.02-.2 1.41-.59l7.78-7.78 2.81-2.81c.8-.78.8-2.07 0-2.86zM5.41 20L4 18.59l7.72-7.72 1.47 1.35L5.41 20z\"/>\n",
              "  </svg>\n",
              "      </button>\n",
              "      \n",
              "  <style>\n",
              "    .colab-df-container {\n",
              "      display:flex;\n",
              "      flex-wrap:wrap;\n",
              "      gap: 12px;\n",
              "    }\n",
              "\n",
              "    .colab-df-convert {\n",
              "      background-color: #E8F0FE;\n",
              "      border: none;\n",
              "      border-radius: 50%;\n",
              "      cursor: pointer;\n",
              "      display: none;\n",
              "      fill: #1967D2;\n",
              "      height: 32px;\n",
              "      padding: 0 0 0 0;\n",
              "      width: 32px;\n",
              "    }\n",
              "\n",
              "    .colab-df-convert:hover {\n",
              "      background-color: #E2EBFA;\n",
              "      box-shadow: 0px 1px 2px rgba(60, 64, 67, 0.3), 0px 1px 3px 1px rgba(60, 64, 67, 0.15);\n",
              "      fill: #174EA6;\n",
              "    }\n",
              "\n",
              "    [theme=dark] .colab-df-convert {\n",
              "      background-color: #3B4455;\n",
              "      fill: #D2E3FC;\n",
              "    }\n",
              "\n",
              "    [theme=dark] .colab-df-convert:hover {\n",
              "      background-color: #434B5C;\n",
              "      box-shadow: 0px 1px 3px 1px rgba(0, 0, 0, 0.15);\n",
              "      filter: drop-shadow(0px 1px 2px rgba(0, 0, 0, 0.3));\n",
              "      fill: #FFFFFF;\n",
              "    }\n",
              "  </style>\n",
              "\n",
              "      <script>\n",
              "        const buttonEl =\n",
              "          document.querySelector('#df-87b58cb9-36d8-47cb-9830-6c7a692eb8ff button.colab-df-convert');\n",
              "        buttonEl.style.display =\n",
              "          google.colab.kernel.accessAllowed ? 'block' : 'none';\n",
              "\n",
              "        async function convertToInteractive(key) {\n",
              "          const element = document.querySelector('#df-87b58cb9-36d8-47cb-9830-6c7a692eb8ff');\n",
              "          const dataTable =\n",
              "            await google.colab.kernel.invokeFunction('convertToInteractive',\n",
              "                                                     [key], {});\n",
              "          if (!dataTable) return;\n",
              "\n",
              "          const docLinkHtml = 'Like what you see? Visit the ' +\n",
              "            '<a target=\"_blank\" href=https://colab.research.google.com/notebooks/data_table.ipynb>data table notebook</a>'\n",
              "            + ' to learn more about interactive tables.';\n",
              "          element.innerHTML = '';\n",
              "          dataTable['output_type'] = 'display_data';\n",
              "          await google.colab.output.renderOutput(dataTable, element);\n",
              "          const docLink = document.createElement('div');\n",
              "          docLink.innerHTML = docLinkHtml;\n",
              "          element.appendChild(docLink);\n",
              "        }\n",
              "      </script>\n",
              "    </div>\n",
              "  </div>\n",
              "  "
            ]
          },
          "metadata": {},
          "execution_count": 23
        }
      ]
    },
    {
      "cell_type": "markdown",
      "source": [
        "**Insight**:\n",
        "\n",
        "EaseofUse, Effectiveness and Satisfaction ranges from 1 to 10. UsefulCount varies from 0 to 255."
      ],
      "metadata": {
        "id": "-Bo1WEw-4-fn"
      }
    },
    {
      "cell_type": "markdown",
      "source": [
        "**Summary statistics - Object datatype**"
      ],
      "metadata": {
        "id": "IrBEQLjD5Cte"
      }
    },
    {
      "cell_type": "code",
      "source": [
        "data.describe(include='object').T"
      ],
      "metadata": {
        "colab": {
          "base_uri": "https://localhost:8080/",
          "height": 331
        },
        "id": "7HXoq2Nc5Eb3",
        "outputId": "3e05f8bb-aeb3-4e9b-cb22-37d45e5a8b0f"
      },
      "execution_count": 24,
      "outputs": [
        {
          "output_type": "execute_result",
          "data": {
            "text/plain": [
              "            count  unique            top    freq\n",
              "Name       362806  180774  Michael Smith     147\n",
              "Race       362806       4          White  116493\n",
              "Age        362806      12          45-54   80043\n",
              "Condition  362806    1806          Other   49765\n",
              "Date       362806    4524     10/29/2007     404\n",
              "Drug       362806    7093       cymbalta    4648\n",
              "Reviews    362769  250167                  41824\n",
              "Sex        362806       3         Female  238226\n",
              "Sides      362806    1651                  17460"
            ],
            "text/html": [
              "\n",
              "  <div id=\"df-d4e28651-fc23-4202-8c31-6bcffe87472d\">\n",
              "    <div class=\"colab-df-container\">\n",
              "      <div>\n",
              "<style scoped>\n",
              "    .dataframe tbody tr th:only-of-type {\n",
              "        vertical-align: middle;\n",
              "    }\n",
              "\n",
              "    .dataframe tbody tr th {\n",
              "        vertical-align: top;\n",
              "    }\n",
              "\n",
              "    .dataframe thead th {\n",
              "        text-align: right;\n",
              "    }\n",
              "</style>\n",
              "<table border=\"1\" class=\"dataframe\">\n",
              "  <thead>\n",
              "    <tr style=\"text-align: right;\">\n",
              "      <th></th>\n",
              "      <th>count</th>\n",
              "      <th>unique</th>\n",
              "      <th>top</th>\n",
              "      <th>freq</th>\n",
              "    </tr>\n",
              "  </thead>\n",
              "  <tbody>\n",
              "    <tr>\n",
              "      <th>Name</th>\n",
              "      <td>362806</td>\n",
              "      <td>180774</td>\n",
              "      <td>Michael Smith</td>\n",
              "      <td>147</td>\n",
              "    </tr>\n",
              "    <tr>\n",
              "      <th>Race</th>\n",
              "      <td>362806</td>\n",
              "      <td>4</td>\n",
              "      <td>White</td>\n",
              "      <td>116493</td>\n",
              "    </tr>\n",
              "    <tr>\n",
              "      <th>Age</th>\n",
              "      <td>362806</td>\n",
              "      <td>12</td>\n",
              "      <td>45-54</td>\n",
              "      <td>80043</td>\n",
              "    </tr>\n",
              "    <tr>\n",
              "      <th>Condition</th>\n",
              "      <td>362806</td>\n",
              "      <td>1806</td>\n",
              "      <td>Other</td>\n",
              "      <td>49765</td>\n",
              "    </tr>\n",
              "    <tr>\n",
              "      <th>Date</th>\n",
              "      <td>362806</td>\n",
              "      <td>4524</td>\n",
              "      <td>10/29/2007</td>\n",
              "      <td>404</td>\n",
              "    </tr>\n",
              "    <tr>\n",
              "      <th>Drug</th>\n",
              "      <td>362806</td>\n",
              "      <td>7093</td>\n",
              "      <td>cymbalta</td>\n",
              "      <td>4648</td>\n",
              "    </tr>\n",
              "    <tr>\n",
              "      <th>Reviews</th>\n",
              "      <td>362769</td>\n",
              "      <td>250167</td>\n",
              "      <td></td>\n",
              "      <td>41824</td>\n",
              "    </tr>\n",
              "    <tr>\n",
              "      <th>Sex</th>\n",
              "      <td>362806</td>\n",
              "      <td>3</td>\n",
              "      <td>Female</td>\n",
              "      <td>238226</td>\n",
              "    </tr>\n",
              "    <tr>\n",
              "      <th>Sides</th>\n",
              "      <td>362806</td>\n",
              "      <td>1651</td>\n",
              "      <td></td>\n",
              "      <td>17460</td>\n",
              "    </tr>\n",
              "  </tbody>\n",
              "</table>\n",
              "</div>\n",
              "      <button class=\"colab-df-convert\" onclick=\"convertToInteractive('df-d4e28651-fc23-4202-8c31-6bcffe87472d')\"\n",
              "              title=\"Convert this dataframe to an interactive table.\"\n",
              "              style=\"display:none;\">\n",
              "        \n",
              "  <svg xmlns=\"http://www.w3.org/2000/svg\" height=\"24px\"viewBox=\"0 0 24 24\"\n",
              "       width=\"24px\">\n",
              "    <path d=\"M0 0h24v24H0V0z\" fill=\"none\"/>\n",
              "    <path d=\"M18.56 5.44l.94 2.06.94-2.06 2.06-.94-2.06-.94-.94-2.06-.94 2.06-2.06.94zm-11 1L8.5 8.5l.94-2.06 2.06-.94-2.06-.94L8.5 2.5l-.94 2.06-2.06.94zm10 10l.94 2.06.94-2.06 2.06-.94-2.06-.94-.94-2.06-.94 2.06-2.06.94z\"/><path d=\"M17.41 7.96l-1.37-1.37c-.4-.4-.92-.59-1.43-.59-.52 0-1.04.2-1.43.59L10.3 9.45l-7.72 7.72c-.78.78-.78 2.05 0 2.83L4 21.41c.39.39.9.59 1.41.59.51 0 1.02-.2 1.41-.59l7.78-7.78 2.81-2.81c.8-.78.8-2.07 0-2.86zM5.41 20L4 18.59l7.72-7.72 1.47 1.35L5.41 20z\"/>\n",
              "  </svg>\n",
              "      </button>\n",
              "      \n",
              "  <style>\n",
              "    .colab-df-container {\n",
              "      display:flex;\n",
              "      flex-wrap:wrap;\n",
              "      gap: 12px;\n",
              "    }\n",
              "\n",
              "    .colab-df-convert {\n",
              "      background-color: #E8F0FE;\n",
              "      border: none;\n",
              "      border-radius: 50%;\n",
              "      cursor: pointer;\n",
              "      display: none;\n",
              "      fill: #1967D2;\n",
              "      height: 32px;\n",
              "      padding: 0 0 0 0;\n",
              "      width: 32px;\n",
              "    }\n",
              "\n",
              "    .colab-df-convert:hover {\n",
              "      background-color: #E2EBFA;\n",
              "      box-shadow: 0px 1px 2px rgba(60, 64, 67, 0.3), 0px 1px 3px 1px rgba(60, 64, 67, 0.15);\n",
              "      fill: #174EA6;\n",
              "    }\n",
              "\n",
              "    [theme=dark] .colab-df-convert {\n",
              "      background-color: #3B4455;\n",
              "      fill: #D2E3FC;\n",
              "    }\n",
              "\n",
              "    [theme=dark] .colab-df-convert:hover {\n",
              "      background-color: #434B5C;\n",
              "      box-shadow: 0px 1px 3px 1px rgba(0, 0, 0, 0.15);\n",
              "      filter: drop-shadow(0px 1px 2px rgba(0, 0, 0, 0.3));\n",
              "      fill: #FFFFFF;\n",
              "    }\n",
              "  </style>\n",
              "\n",
              "      <script>\n",
              "        const buttonEl =\n",
              "          document.querySelector('#df-d4e28651-fc23-4202-8c31-6bcffe87472d button.colab-df-convert');\n",
              "        buttonEl.style.display =\n",
              "          google.colab.kernel.accessAllowed ? 'block' : 'none';\n",
              "\n",
              "        async function convertToInteractive(key) {\n",
              "          const element = document.querySelector('#df-d4e28651-fc23-4202-8c31-6bcffe87472d');\n",
              "          const dataTable =\n",
              "            await google.colab.kernel.invokeFunction('convertToInteractive',\n",
              "                                                     [key], {});\n",
              "          if (!dataTable) return;\n",
              "\n",
              "          const docLinkHtml = 'Like what you see? Visit the ' +\n",
              "            '<a target=\"_blank\" href=https://colab.research.google.com/notebooks/data_table.ipynb>data table notebook</a>'\n",
              "            + ' to learn more about interactive tables.';\n",
              "          element.innerHTML = '';\n",
              "          dataTable['output_type'] = 'display_data';\n",
              "          await google.colab.output.renderOutput(dataTable, element);\n",
              "          const docLink = document.createElement('div');\n",
              "          docLink.innerHTML = docLinkHtml;\n",
              "          element.appendChild(docLink);\n",
              "        }\n",
              "      </script>\n",
              "    </div>\n",
              "  </div>\n",
              "  "
            ]
          },
          "metadata": {},
          "execution_count": 24
        }
      ]
    },
    {
      "cell_type": "markdown",
      "source": [
        "**Insight**:\n",
        "\n",
        "Age group between 45 to 54 is the highest.\n",
        "\n",
        "Female patients are more than male patients.\n",
        "\n",
        "The use of cymbalta is highest when compared with other drugs."
      ],
      "metadata": {
        "id": "eeaS52v95LAV"
      }
    },
    {
      "cell_type": "markdown",
      "source": [
        "**Checking for duplicate values**"
      ],
      "metadata": {
        "id": "5ympf3MJ5PZI"
      }
    },
    {
      "cell_type": "code",
      "source": [
        "data.duplicated().sum()\n"
      ],
      "metadata": {
        "colab": {
          "base_uri": "https://localhost:8080/"
        },
        "id": "b0l9UMZq5Q39",
        "outputId": "e35e7359-7efd-4153-e212-7ec73ad5304e"
      },
      "execution_count": 25,
      "outputs": [
        {
          "output_type": "execute_result",
          "data": {
            "text/plain": [
              "0"
            ]
          },
          "metadata": {},
          "execution_count": 25
        }
      ]
    },
    {
      "cell_type": "markdown",
      "source": [
        "**Insight**:\n",
        "\n",
        "There are no duplicate values present in the dataset."
      ],
      "metadata": {
        "id": "zJLFMdDa5VNR"
      }
    },
    {
      "cell_type": "markdown",
      "source": [
        "**Exploring the column names**"
      ],
      "metadata": {
        "id": "mB1-7Omd5Z3f"
      }
    },
    {
      "cell_type": "code",
      "source": [
        "data.columns\n"
      ],
      "metadata": {
        "colab": {
          "base_uri": "https://localhost:8080/"
        },
        "id": "dujscfHY5bUO",
        "outputId": "4bf7d3f0-351f-435e-fd6c-ce42c2b3c0d5"
      },
      "execution_count": 26,
      "outputs": [
        {
          "output_type": "execute_result",
          "data": {
            "text/plain": [
              "Index(['Name', 'Race', 'Age', 'Condition', 'Date', 'Drug', 'DrugId',\n",
              "       'EaseofUse', 'Effectiveness', 'Reviews', 'Satisfaction', 'Sex', 'Sides',\n",
              "       'UsefulCount'],\n",
              "      dtype='object')"
            ]
          },
          "metadata": {},
          "execution_count": 26
        }
      ]
    },
    {
      "cell_type": "markdown",
      "source": [
        "**Selection of drug: A particular drug named Lisinopril with DrugId 6873 is selected in building a classification model to determine side effects**"
      ],
      "metadata": {
        "id": "ZtXM9Q9h6mxc"
      }
    },
    {
      "cell_type": "code",
      "source": [
        "\n",
        "drug_lisinopril= data.loc[(data['Drug'] =='lisinopril')]\n",
        "drug_lisinopril.head(5)"
      ],
      "metadata": {
        "colab": {
          "base_uri": "https://localhost:8080/",
          "height": 652
        },
        "id": "Q1fvDVoa6Xhb",
        "outputId": "0b645ab2-4d59-4171-ffce-a83cf9552882"
      },
      "execution_count": 28,
      "outputs": [
        {
          "output_type": "execute_result",
          "data": {
            "text/plain": [
              "                       Name      Race         Age            Condition  \\\n",
              "14354     William Rodriguez  Hispanic              High Blood Pressure   \n",
              "14356          William Todd     White  75 or over  High Blood Pressure   \n",
              "14358  Christopher Anderson     Asian       55-64  High Blood Pressure   \n",
              "14364           Jaime Villa     Asian       65-74  High Blood Pressure   \n",
              "14367         Timothy Brown     Asian       55-64  High Blood Pressure   \n",
              "\n",
              "             Date        Drug  DrugId  EaseofUse  Effectiveness  \\\n",
              "14354   2/29/2020  lisinopril    6873          5              5   \n",
              "14356    2/8/2020  lisinopril    6873          5              4   \n",
              "14358   1/14/2020  lisinopril    6873          4              5   \n",
              "14364  10/17/2019  lisinopril    6873          5              5   \n",
              "14367  10/13/2019  lisinopril    6873          2              4   \n",
              "\n",
              "                                                 Reviews  Satisfaction  \\\n",
              "14354  No Script or health Insurance needed to place ...             5   \n",
              "14356  I have developed a very itch rash on my body f...             4   \n",
              "14358  tried alternative medicine Beet root, hibiscus...             4   \n",
              "14364  Have been taking 10 mg doses per day for over ...             5   \n",
              "14367  I don't like that I'm taking this and not know...             2   \n",
              "\n",
              "          Sex                                              Sides  UsefulCount  \n",
              "14354          Dizziness ,  lightheadedness , tiredness, or  ...           14  \n",
              "14356  Female  Dizziness ,  lightheadedness , tiredness, or  ...            3  \n",
              "14358    Male  Dizziness ,  lightheadedness , tiredness, or  ...            3  \n",
              "14364    Male  Dizziness ,  lightheadedness , tiredness, or  ...            6  \n",
              "14367    Male  Dizziness ,  lightheadedness , tiredness, or  ...           12  "
            ],
            "text/html": [
              "\n",
              "  <div id=\"df-876db83e-7f84-4bc8-a98a-4f9c1b57de1d\">\n",
              "    <div class=\"colab-df-container\">\n",
              "      <div>\n",
              "<style scoped>\n",
              "    .dataframe tbody tr th:only-of-type {\n",
              "        vertical-align: middle;\n",
              "    }\n",
              "\n",
              "    .dataframe tbody tr th {\n",
              "        vertical-align: top;\n",
              "    }\n",
              "\n",
              "    .dataframe thead th {\n",
              "        text-align: right;\n",
              "    }\n",
              "</style>\n",
              "<table border=\"1\" class=\"dataframe\">\n",
              "  <thead>\n",
              "    <tr style=\"text-align: right;\">\n",
              "      <th></th>\n",
              "      <th>Name</th>\n",
              "      <th>Race</th>\n",
              "      <th>Age</th>\n",
              "      <th>Condition</th>\n",
              "      <th>Date</th>\n",
              "      <th>Drug</th>\n",
              "      <th>DrugId</th>\n",
              "      <th>EaseofUse</th>\n",
              "      <th>Effectiveness</th>\n",
              "      <th>Reviews</th>\n",
              "      <th>Satisfaction</th>\n",
              "      <th>Sex</th>\n",
              "      <th>Sides</th>\n",
              "      <th>UsefulCount</th>\n",
              "    </tr>\n",
              "  </thead>\n",
              "  <tbody>\n",
              "    <tr>\n",
              "      <th>14354</th>\n",
              "      <td>William Rodriguez</td>\n",
              "      <td>Hispanic</td>\n",
              "      <td></td>\n",
              "      <td>High Blood Pressure</td>\n",
              "      <td>2/29/2020</td>\n",
              "      <td>lisinopril</td>\n",
              "      <td>6873</td>\n",
              "      <td>5</td>\n",
              "      <td>5</td>\n",
              "      <td>No Script or health Insurance needed to place ...</td>\n",
              "      <td>5</td>\n",
              "      <td></td>\n",
              "      <td>Dizziness ,  lightheadedness , tiredness, or  ...</td>\n",
              "      <td>14</td>\n",
              "    </tr>\n",
              "    <tr>\n",
              "      <th>14356</th>\n",
              "      <td>William Todd</td>\n",
              "      <td>White</td>\n",
              "      <td>75 or over</td>\n",
              "      <td>High Blood Pressure</td>\n",
              "      <td>2/8/2020</td>\n",
              "      <td>lisinopril</td>\n",
              "      <td>6873</td>\n",
              "      <td>5</td>\n",
              "      <td>4</td>\n",
              "      <td>I have developed a very itch rash on my body f...</td>\n",
              "      <td>4</td>\n",
              "      <td>Female</td>\n",
              "      <td>Dizziness ,  lightheadedness , tiredness, or  ...</td>\n",
              "      <td>3</td>\n",
              "    </tr>\n",
              "    <tr>\n",
              "      <th>14358</th>\n",
              "      <td>Christopher Anderson</td>\n",
              "      <td>Asian</td>\n",
              "      <td>55-64</td>\n",
              "      <td>High Blood Pressure</td>\n",
              "      <td>1/14/2020</td>\n",
              "      <td>lisinopril</td>\n",
              "      <td>6873</td>\n",
              "      <td>4</td>\n",
              "      <td>5</td>\n",
              "      <td>tried alternative medicine Beet root, hibiscus...</td>\n",
              "      <td>4</td>\n",
              "      <td>Male</td>\n",
              "      <td>Dizziness ,  lightheadedness , tiredness, or  ...</td>\n",
              "      <td>3</td>\n",
              "    </tr>\n",
              "    <tr>\n",
              "      <th>14364</th>\n",
              "      <td>Jaime Villa</td>\n",
              "      <td>Asian</td>\n",
              "      <td>65-74</td>\n",
              "      <td>High Blood Pressure</td>\n",
              "      <td>10/17/2019</td>\n",
              "      <td>lisinopril</td>\n",
              "      <td>6873</td>\n",
              "      <td>5</td>\n",
              "      <td>5</td>\n",
              "      <td>Have been taking 10 mg doses per day for over ...</td>\n",
              "      <td>5</td>\n",
              "      <td>Male</td>\n",
              "      <td>Dizziness ,  lightheadedness , tiredness, or  ...</td>\n",
              "      <td>6</td>\n",
              "    </tr>\n",
              "    <tr>\n",
              "      <th>14367</th>\n",
              "      <td>Timothy Brown</td>\n",
              "      <td>Asian</td>\n",
              "      <td>55-64</td>\n",
              "      <td>High Blood Pressure</td>\n",
              "      <td>10/13/2019</td>\n",
              "      <td>lisinopril</td>\n",
              "      <td>6873</td>\n",
              "      <td>2</td>\n",
              "      <td>4</td>\n",
              "      <td>I don't like that I'm taking this and not know...</td>\n",
              "      <td>2</td>\n",
              "      <td>Male</td>\n",
              "      <td>Dizziness ,  lightheadedness , tiredness, or  ...</td>\n",
              "      <td>12</td>\n",
              "    </tr>\n",
              "  </tbody>\n",
              "</table>\n",
              "</div>\n",
              "      <button class=\"colab-df-convert\" onclick=\"convertToInteractive('df-876db83e-7f84-4bc8-a98a-4f9c1b57de1d')\"\n",
              "              title=\"Convert this dataframe to an interactive table.\"\n",
              "              style=\"display:none;\">\n",
              "        \n",
              "  <svg xmlns=\"http://www.w3.org/2000/svg\" height=\"24px\"viewBox=\"0 0 24 24\"\n",
              "       width=\"24px\">\n",
              "    <path d=\"M0 0h24v24H0V0z\" fill=\"none\"/>\n",
              "    <path d=\"M18.56 5.44l.94 2.06.94-2.06 2.06-.94-2.06-.94-.94-2.06-.94 2.06-2.06.94zm-11 1L8.5 8.5l.94-2.06 2.06-.94-2.06-.94L8.5 2.5l-.94 2.06-2.06.94zm10 10l.94 2.06.94-2.06 2.06-.94-2.06-.94-.94-2.06-.94 2.06-2.06.94z\"/><path d=\"M17.41 7.96l-1.37-1.37c-.4-.4-.92-.59-1.43-.59-.52 0-1.04.2-1.43.59L10.3 9.45l-7.72 7.72c-.78.78-.78 2.05 0 2.83L4 21.41c.39.39.9.59 1.41.59.51 0 1.02-.2 1.41-.59l7.78-7.78 2.81-2.81c.8-.78.8-2.07 0-2.86zM5.41 20L4 18.59l7.72-7.72 1.47 1.35L5.41 20z\"/>\n",
              "  </svg>\n",
              "      </button>\n",
              "      \n",
              "  <style>\n",
              "    .colab-df-container {\n",
              "      display:flex;\n",
              "      flex-wrap:wrap;\n",
              "      gap: 12px;\n",
              "    }\n",
              "\n",
              "    .colab-df-convert {\n",
              "      background-color: #E8F0FE;\n",
              "      border: none;\n",
              "      border-radius: 50%;\n",
              "      cursor: pointer;\n",
              "      display: none;\n",
              "      fill: #1967D2;\n",
              "      height: 32px;\n",
              "      padding: 0 0 0 0;\n",
              "      width: 32px;\n",
              "    }\n",
              "\n",
              "    .colab-df-convert:hover {\n",
              "      background-color: #E2EBFA;\n",
              "      box-shadow: 0px 1px 2px rgba(60, 64, 67, 0.3), 0px 1px 3px 1px rgba(60, 64, 67, 0.15);\n",
              "      fill: #174EA6;\n",
              "    }\n",
              "\n",
              "    [theme=dark] .colab-df-convert {\n",
              "      background-color: #3B4455;\n",
              "      fill: #D2E3FC;\n",
              "    }\n",
              "\n",
              "    [theme=dark] .colab-df-convert:hover {\n",
              "      background-color: #434B5C;\n",
              "      box-shadow: 0px 1px 3px 1px rgba(0, 0, 0, 0.15);\n",
              "      filter: drop-shadow(0px 1px 2px rgba(0, 0, 0, 0.3));\n",
              "      fill: #FFFFFF;\n",
              "    }\n",
              "  </style>\n",
              "\n",
              "      <script>\n",
              "        const buttonEl =\n",
              "          document.querySelector('#df-876db83e-7f84-4bc8-a98a-4f9c1b57de1d button.colab-df-convert');\n",
              "        buttonEl.style.display =\n",
              "          google.colab.kernel.accessAllowed ? 'block' : 'none';\n",
              "\n",
              "        async function convertToInteractive(key) {\n",
              "          const element = document.querySelector('#df-876db83e-7f84-4bc8-a98a-4f9c1b57de1d');\n",
              "          const dataTable =\n",
              "            await google.colab.kernel.invokeFunction('convertToInteractive',\n",
              "                                                     [key], {});\n",
              "          if (!dataTable) return;\n",
              "\n",
              "          const docLinkHtml = 'Like what you see? Visit the ' +\n",
              "            '<a target=\"_blank\" href=https://colab.research.google.com/notebooks/data_table.ipynb>data table notebook</a>'\n",
              "            + ' to learn more about interactive tables.';\n",
              "          element.innerHTML = '';\n",
              "          dataTable['output_type'] = 'display_data';\n",
              "          await google.colab.output.renderOutput(dataTable, element);\n",
              "          const docLink = document.createElement('div');\n",
              "          docLink.innerHTML = docLinkHtml;\n",
              "          element.appendChild(docLink);\n",
              "        }\n",
              "      </script>\n",
              "    </div>\n",
              "  </div>\n",
              "  "
            ]
          },
          "metadata": {},
          "execution_count": 28
        }
      ]
    },
    {
      "cell_type": "code",
      "source": [
        "drug_lisinopril.shape\n"
      ],
      "metadata": {
        "colab": {
          "base_uri": "https://localhost:8080/"
        },
        "id": "_nJ0doyZ6cpZ",
        "outputId": "90661e02-baea-4d85-b069-9becb0d71a69"
      },
      "execution_count": 29,
      "outputs": [
        {
          "output_type": "execute_result",
          "data": {
            "text/plain": [
              "(4269, 14)"
            ]
          },
          "metadata": {},
          "execution_count": 29
        }
      ]
    },
    {
      "cell_type": "code",
      "source": [
        "drug_lisinopril['Condition'].value_counts()\n"
      ],
      "metadata": {
        "colab": {
          "base_uri": "https://localhost:8080/"
        },
        "id": "sktpCzME6eB5",
        "outputId": "afefb729-dadd-4df7-a5b3-d1442538dc9c"
      },
      "execution_count": 30,
      "outputs": [
        {
          "output_type": "execute_result",
          "data": {
            "text/plain": [
              "High Blood Pressure                                         3834\n",
              "Other                                                        111\n",
              "Kidney Disease from Diabetes                                 103\n",
              "Heart Attack                                                  88\n",
              "Chronic Heart Failure                                         42\n",
              "Prevention of Recurrent Atrial Fibrillation                   23\n",
              "Failure of the Left Ventricle of the Heart                    19\n",
              "Migraine Prevention                                           18\n",
              "Kidney Problem caused by Body Tissue Disease-Scleroderma      15\n",
              "Nondiabetic Proteinuric Nephropathy                            9\n",
              "Retinal Changes of Eye in a Patient with Diabetes              4\n",
              "Diastolic Heart Failure                                        3\n",
              "Name: Condition, dtype: int64"
            ]
          },
          "metadata": {},
          "execution_count": 30
        }
      ]
    },
    {
      "cell_type": "code",
      "source": [
        "drug_lisinopril['Age'].value_counts()\n"
      ],
      "metadata": {
        "colab": {
          "base_uri": "https://localhost:8080/"
        },
        "id": "vCDxAED26hEG",
        "outputId": "780c98f3-ddfd-4e65-d47c-80e86dbd8916"
      },
      "execution_count": 31,
      "outputs": [
        {
          "output_type": "execute_result",
          "data": {
            "text/plain": [
              "55-64         1191\n",
              "45-54         1111\n",
              "65-74          766\n",
              "35-44          531\n",
              "75 or over     331\n",
              "25-34          171\n",
              "               135\n",
              "19-24           28\n",
              "13-18            3\n",
              "0-2              1\n",
              "7-12             1\n",
              "Name: Age, dtype: int64"
            ]
          },
          "metadata": {},
          "execution_count": 31
        }
      ]
    },
    {
      "cell_type": "code",
      "source": [
        "data_new = drug_lisinopril.copy()\n",
        "data_copy = data.copy()"
      ],
      "metadata": {
        "id": "coSG7N296lDV"
      },
      "execution_count": 32,
      "outputs": []
    },
    {
      "cell_type": "markdown",
      "source": [
        "**DATA PREPROCESSING**"
      ],
      "metadata": {
        "id": "nChxZSKe513f"
      }
    },
    {
      "cell_type": "markdown",
      "source": [
        "1. Handling whitespaces"
      ],
      "metadata": {
        "id": "sVEOvnr76FHp"
      }
    },
    {
      "cell_type": "code",
      "source": [
        "# Handling instances with whitespaces\n",
        "\n",
        "for i in data_new:\n",
        "    data_new[i]=np.where(data_new[i]==\" \",np.NAN,data_new[i])\n",
        "data_new.head()"
      ],
      "metadata": {
        "colab": {
          "base_uri": "https://localhost:8080/",
          "height": 652
        },
        "id": "r6yHrlT86F3L",
        "outputId": "1ef34b2d-84e1-45f7-abfd-5140ce497a02"
      },
      "execution_count": 33,
      "outputs": [
        {
          "output_type": "execute_result",
          "data": {
            "text/plain": [
              "                       Name      Race         Age            Condition  \\\n",
              "14354     William Rodriguez  Hispanic         NaN  High Blood Pressure   \n",
              "14356          William Todd     White  75 or over  High Blood Pressure   \n",
              "14358  Christopher Anderson     Asian       55-64  High Blood Pressure   \n",
              "14364           Jaime Villa     Asian       65-74  High Blood Pressure   \n",
              "14367         Timothy Brown     Asian       55-64  High Blood Pressure   \n",
              "\n",
              "             Date        Drug  DrugId  EaseofUse  Effectiveness  \\\n",
              "14354   2/29/2020  lisinopril  6873.0        5.0            5.0   \n",
              "14356    2/8/2020  lisinopril  6873.0        5.0            4.0   \n",
              "14358   1/14/2020  lisinopril  6873.0        4.0            5.0   \n",
              "14364  10/17/2019  lisinopril  6873.0        5.0            5.0   \n",
              "14367  10/13/2019  lisinopril  6873.0        2.0            4.0   \n",
              "\n",
              "                                                 Reviews  Satisfaction  \\\n",
              "14354  No Script or health Insurance needed to place ...           5.0   \n",
              "14356  I have developed a very itch rash on my body f...           4.0   \n",
              "14358  tried alternative medicine Beet root, hibiscus...           4.0   \n",
              "14364  Have been taking 10 mg doses per day for over ...           5.0   \n",
              "14367  I don't like that I'm taking this and not know...           2.0   \n",
              "\n",
              "          Sex                                              Sides  UsefulCount  \n",
              "14354     NaN  Dizziness ,  lightheadedness , tiredness, or  ...         14.0  \n",
              "14356  Female  Dizziness ,  lightheadedness , tiredness, or  ...          3.0  \n",
              "14358    Male  Dizziness ,  lightheadedness , tiredness, or  ...          3.0  \n",
              "14364    Male  Dizziness ,  lightheadedness , tiredness, or  ...          6.0  \n",
              "14367    Male  Dizziness ,  lightheadedness , tiredness, or  ...         12.0  "
            ],
            "text/html": [
              "\n",
              "  <div id=\"df-01a43d50-5528-4993-a1fa-089fb5fc6106\">\n",
              "    <div class=\"colab-df-container\">\n",
              "      <div>\n",
              "<style scoped>\n",
              "    .dataframe tbody tr th:only-of-type {\n",
              "        vertical-align: middle;\n",
              "    }\n",
              "\n",
              "    .dataframe tbody tr th {\n",
              "        vertical-align: top;\n",
              "    }\n",
              "\n",
              "    .dataframe thead th {\n",
              "        text-align: right;\n",
              "    }\n",
              "</style>\n",
              "<table border=\"1\" class=\"dataframe\">\n",
              "  <thead>\n",
              "    <tr style=\"text-align: right;\">\n",
              "      <th></th>\n",
              "      <th>Name</th>\n",
              "      <th>Race</th>\n",
              "      <th>Age</th>\n",
              "      <th>Condition</th>\n",
              "      <th>Date</th>\n",
              "      <th>Drug</th>\n",
              "      <th>DrugId</th>\n",
              "      <th>EaseofUse</th>\n",
              "      <th>Effectiveness</th>\n",
              "      <th>Reviews</th>\n",
              "      <th>Satisfaction</th>\n",
              "      <th>Sex</th>\n",
              "      <th>Sides</th>\n",
              "      <th>UsefulCount</th>\n",
              "    </tr>\n",
              "  </thead>\n",
              "  <tbody>\n",
              "    <tr>\n",
              "      <th>14354</th>\n",
              "      <td>William Rodriguez</td>\n",
              "      <td>Hispanic</td>\n",
              "      <td>NaN</td>\n",
              "      <td>High Blood Pressure</td>\n",
              "      <td>2/29/2020</td>\n",
              "      <td>lisinopril</td>\n",
              "      <td>6873.0</td>\n",
              "      <td>5.0</td>\n",
              "      <td>5.0</td>\n",
              "      <td>No Script or health Insurance needed to place ...</td>\n",
              "      <td>5.0</td>\n",
              "      <td>NaN</td>\n",
              "      <td>Dizziness ,  lightheadedness , tiredness, or  ...</td>\n",
              "      <td>14.0</td>\n",
              "    </tr>\n",
              "    <tr>\n",
              "      <th>14356</th>\n",
              "      <td>William Todd</td>\n",
              "      <td>White</td>\n",
              "      <td>75 or over</td>\n",
              "      <td>High Blood Pressure</td>\n",
              "      <td>2/8/2020</td>\n",
              "      <td>lisinopril</td>\n",
              "      <td>6873.0</td>\n",
              "      <td>5.0</td>\n",
              "      <td>4.0</td>\n",
              "      <td>I have developed a very itch rash on my body f...</td>\n",
              "      <td>4.0</td>\n",
              "      <td>Female</td>\n",
              "      <td>Dizziness ,  lightheadedness , tiredness, or  ...</td>\n",
              "      <td>3.0</td>\n",
              "    </tr>\n",
              "    <tr>\n",
              "      <th>14358</th>\n",
              "      <td>Christopher Anderson</td>\n",
              "      <td>Asian</td>\n",
              "      <td>55-64</td>\n",
              "      <td>High Blood Pressure</td>\n",
              "      <td>1/14/2020</td>\n",
              "      <td>lisinopril</td>\n",
              "      <td>6873.0</td>\n",
              "      <td>4.0</td>\n",
              "      <td>5.0</td>\n",
              "      <td>tried alternative medicine Beet root, hibiscus...</td>\n",
              "      <td>4.0</td>\n",
              "      <td>Male</td>\n",
              "      <td>Dizziness ,  lightheadedness , tiredness, or  ...</td>\n",
              "      <td>3.0</td>\n",
              "    </tr>\n",
              "    <tr>\n",
              "      <th>14364</th>\n",
              "      <td>Jaime Villa</td>\n",
              "      <td>Asian</td>\n",
              "      <td>65-74</td>\n",
              "      <td>High Blood Pressure</td>\n",
              "      <td>10/17/2019</td>\n",
              "      <td>lisinopril</td>\n",
              "      <td>6873.0</td>\n",
              "      <td>5.0</td>\n",
              "      <td>5.0</td>\n",
              "      <td>Have been taking 10 mg doses per day for over ...</td>\n",
              "      <td>5.0</td>\n",
              "      <td>Male</td>\n",
              "      <td>Dizziness ,  lightheadedness , tiredness, or  ...</td>\n",
              "      <td>6.0</td>\n",
              "    </tr>\n",
              "    <tr>\n",
              "      <th>14367</th>\n",
              "      <td>Timothy Brown</td>\n",
              "      <td>Asian</td>\n",
              "      <td>55-64</td>\n",
              "      <td>High Blood Pressure</td>\n",
              "      <td>10/13/2019</td>\n",
              "      <td>lisinopril</td>\n",
              "      <td>6873.0</td>\n",
              "      <td>2.0</td>\n",
              "      <td>4.0</td>\n",
              "      <td>I don't like that I'm taking this and not know...</td>\n",
              "      <td>2.0</td>\n",
              "      <td>Male</td>\n",
              "      <td>Dizziness ,  lightheadedness , tiredness, or  ...</td>\n",
              "      <td>12.0</td>\n",
              "    </tr>\n",
              "  </tbody>\n",
              "</table>\n",
              "</div>\n",
              "      <button class=\"colab-df-convert\" onclick=\"convertToInteractive('df-01a43d50-5528-4993-a1fa-089fb5fc6106')\"\n",
              "              title=\"Convert this dataframe to an interactive table.\"\n",
              "              style=\"display:none;\">\n",
              "        \n",
              "  <svg xmlns=\"http://www.w3.org/2000/svg\" height=\"24px\"viewBox=\"0 0 24 24\"\n",
              "       width=\"24px\">\n",
              "    <path d=\"M0 0h24v24H0V0z\" fill=\"none\"/>\n",
              "    <path d=\"M18.56 5.44l.94 2.06.94-2.06 2.06-.94-2.06-.94-.94-2.06-.94 2.06-2.06.94zm-11 1L8.5 8.5l.94-2.06 2.06-.94-2.06-.94L8.5 2.5l-.94 2.06-2.06.94zm10 10l.94 2.06.94-2.06 2.06-.94-2.06-.94-.94-2.06-.94 2.06-2.06.94z\"/><path d=\"M17.41 7.96l-1.37-1.37c-.4-.4-.92-.59-1.43-.59-.52 0-1.04.2-1.43.59L10.3 9.45l-7.72 7.72c-.78.78-.78 2.05 0 2.83L4 21.41c.39.39.9.59 1.41.59.51 0 1.02-.2 1.41-.59l7.78-7.78 2.81-2.81c.8-.78.8-2.07 0-2.86zM5.41 20L4 18.59l7.72-7.72 1.47 1.35L5.41 20z\"/>\n",
              "  </svg>\n",
              "      </button>\n",
              "      \n",
              "  <style>\n",
              "    .colab-df-container {\n",
              "      display:flex;\n",
              "      flex-wrap:wrap;\n",
              "      gap: 12px;\n",
              "    }\n",
              "\n",
              "    .colab-df-convert {\n",
              "      background-color: #E8F0FE;\n",
              "      border: none;\n",
              "      border-radius: 50%;\n",
              "      cursor: pointer;\n",
              "      display: none;\n",
              "      fill: #1967D2;\n",
              "      height: 32px;\n",
              "      padding: 0 0 0 0;\n",
              "      width: 32px;\n",
              "    }\n",
              "\n",
              "    .colab-df-convert:hover {\n",
              "      background-color: #E2EBFA;\n",
              "      box-shadow: 0px 1px 2px rgba(60, 64, 67, 0.3), 0px 1px 3px 1px rgba(60, 64, 67, 0.15);\n",
              "      fill: #174EA6;\n",
              "    }\n",
              "\n",
              "    [theme=dark] .colab-df-convert {\n",
              "      background-color: #3B4455;\n",
              "      fill: #D2E3FC;\n",
              "    }\n",
              "\n",
              "    [theme=dark] .colab-df-convert:hover {\n",
              "      background-color: #434B5C;\n",
              "      box-shadow: 0px 1px 3px 1px rgba(0, 0, 0, 0.15);\n",
              "      filter: drop-shadow(0px 1px 2px rgba(0, 0, 0, 0.3));\n",
              "      fill: #FFFFFF;\n",
              "    }\n",
              "  </style>\n",
              "\n",
              "      <script>\n",
              "        const buttonEl =\n",
              "          document.querySelector('#df-01a43d50-5528-4993-a1fa-089fb5fc6106 button.colab-df-convert');\n",
              "        buttonEl.style.display =\n",
              "          google.colab.kernel.accessAllowed ? 'block' : 'none';\n",
              "\n",
              "        async function convertToInteractive(key) {\n",
              "          const element = document.querySelector('#df-01a43d50-5528-4993-a1fa-089fb5fc6106');\n",
              "          const dataTable =\n",
              "            await google.colab.kernel.invokeFunction('convertToInteractive',\n",
              "                                                     [key], {});\n",
              "          if (!dataTable) return;\n",
              "\n",
              "          const docLinkHtml = 'Like what you see? Visit the ' +\n",
              "            '<a target=\"_blank\" href=https://colab.research.google.com/notebooks/data_table.ipynb>data table notebook</a>'\n",
              "            + ' to learn more about interactive tables.';\n",
              "          element.innerHTML = '';\n",
              "          dataTable['output_type'] = 'display_data';\n",
              "          await google.colab.output.renderOutput(dataTable, element);\n",
              "          const docLink = document.createElement('div');\n",
              "          docLink.innerHTML = docLinkHtml;\n",
              "          element.appendChild(docLink);\n",
              "        }\n",
              "      </script>\n",
              "    </div>\n",
              "  </div>\n",
              "  "
            ]
          },
          "metadata": {},
          "execution_count": 33
        }
      ]
    },
    {
      "cell_type": "markdown",
      "source": [
        "2. Missing values handling"
      ],
      "metadata": {
        "id": "LKj5-f446ufP"
      }
    },
    {
      "cell_type": "code",
      "source": [
        "#checking missing values\n",
        "\n",
        "data_new.isnull().sum()"
      ],
      "metadata": {
        "colab": {
          "base_uri": "https://localhost:8080/"
        },
        "id": "-3ay5siy6H4C",
        "outputId": "df58f7d7-b8c0-4ea3-e217-437436c027ac"
      },
      "execution_count": 34,
      "outputs": [
        {
          "output_type": "execute_result",
          "data": {
            "text/plain": [
              "Name               0\n",
              "Race               0\n",
              "Age              135\n",
              "Condition          0\n",
              "Date               0\n",
              "Drug               0\n",
              "DrugId             0\n",
              "EaseofUse          0\n",
              "Effectiveness      0\n",
              "Reviews          783\n",
              "Satisfaction       0\n",
              "Sex              247\n",
              "Sides              0\n",
              "UsefulCount        0\n",
              "dtype: int64"
            ]
          },
          "metadata": {},
          "execution_count": 34
        }
      ]
    },
    {
      "cell_type": "markdown",
      "source": [
        "**Bar plot showing the null value count of each feature**"
      ],
      "metadata": {
        "id": "mxbr_sQq7G-J"
      }
    },
    {
      "cell_type": "code",
      "source": [
        "missing = (data_new.isnull().sum()).sort_values(ascending=False)\n",
        "missing.plot(kind=\"bar\", figsize = (12,6), fontsize = 10, color='violet')\n",
        "plt.xlabel(\"Columns\", fontsize = 20)\n",
        "plt.ylabel(\"\", fontsize = 20)\n",
        "plt.title(\"Total Missing Values\", fontsize = 20)"
      ],
      "metadata": {
        "colab": {
          "base_uri": "https://localhost:8080/",
          "height": 682
        },
        "id": "QrEWJduz67Xk",
        "outputId": "614eb8ae-2339-4765-aca2-81d8f678c919"
      },
      "execution_count": 35,
      "outputs": [
        {
          "output_type": "execute_result",
          "data": {
            "text/plain": [
              "Text(0.5, 1.0, 'Total Missing Values')"
            ]
          },
          "metadata": {},
          "execution_count": 35
        },
        {
          "output_type": "display_data",
          "data": {
            "text/plain": [
              "<Figure size 1200x600 with 1 Axes>"
            ],
            "image/png": "[encoded data removed]"
          },
          "metadata": {}
        }
      ]
    },
    {
      "cell_type": "code",
      "source": [
        "# Removing rows with null data\n",
        "\n",
        "data_new=data_new.dropna(axis=0)\n",
        "data_new.isnull().sum()"
      ],
      "metadata": {
        "colab": {
          "base_uri": "https://localhost:8080/"
        },
        "id": "8OZG_Qtm7KwF",
        "outputId": "a4b469fc-c891-4979-8256-a66dfcc819f7"
      },
      "execution_count": 36,
      "outputs": [
        {
          "output_type": "execute_result",
          "data": {
            "text/plain": [
              "Name             0\n",
              "Race             0\n",
              "Age              0\n",
              "Condition        0\n",
              "Date             0\n",
              "Drug             0\n",
              "DrugId           0\n",
              "EaseofUse        0\n",
              "Effectiveness    0\n",
              "Reviews          0\n",
              "Satisfaction     0\n",
              "Sex              0\n",
              "Sides            0\n",
              "UsefulCount      0\n",
              "dtype: int64"
            ]
          },
          "metadata": {},
          "execution_count": 36
        }
      ]
    },
    {
      "cell_type": "code",
      "source": [
        "data_new.shape\n"
      ],
      "metadata": {
        "colab": {
          "base_uri": "https://localhost:8080/"
        },
        "id": "vY9Nor_N7OAw",
        "outputId": "bab4d086-8b28-48c9-c2c6-d6cd40fd3869"
      },
      "execution_count": 37,
      "outputs": [
        {
          "output_type": "execute_result",
          "data": {
            "text/plain": [
              "(3263, 14)"
            ]
          },
          "metadata": {},
          "execution_count": 37
        }
      ]
    },
    {
      "cell_type": "markdown",
      "source": [
        "3.Handling Age group\n"
      ],
      "metadata": {
        "id": "ajzLbk5z785J"
      }
    },
    {
      "cell_type": "code",
      "source": [
        "data_new['Age'].value_counts()"
      ],
      "metadata": {
        "colab": {
          "base_uri": "https://localhost:8080/"
        },
        "id": "vQz1WnxO79XA",
        "outputId": "c37ce77f-ea04-4ed7-e3c7-4dfbc96cfb51"
      },
      "execution_count": 43,
      "outputs": [
        {
          "output_type": "execute_result",
          "data": {
            "text/plain": [
              "55-64         956\n",
              "45-54         880\n",
              "65-74         574\n",
              "35-44         429\n",
              "75 or over    245\n",
              "25-34         153\n",
              "19-24          22\n",
              "13-18           3\n",
              "0-2             1\n",
              "Name: Age, dtype: int64"
            ]
          },
          "metadata": {},
          "execution_count": 43
        }
      ]
    },
    {
      "cell_type": "code",
      "source": [
        "data_new['Age'].unique()"
      ],
      "metadata": {
        "colab": {
          "base_uri": "https://localhost:8080/"
        },
        "id": "QYymDFpC7_HF",
        "outputId": "c4676a51-ac8d-4bfc-bfd1-87d745fee02a"
      },
      "execution_count": 44,
      "outputs": [
        {
          "output_type": "execute_result",
          "data": {
            "text/plain": [
              "array(['75 or over', '55-64', '65-74', '25-34', '35-44', '45-54', '19-24',\n",
              "       '13-18', '0-2'], dtype=object)"
            ]
          },
          "metadata": {},
          "execution_count": 44
        }
      ]
    },
    {
      "cell_type": "code",
      "source": [
        "data_new['Age']=data_new['Age'].str.replace('75 or over','75-100')\n",
        "data_new['Age'].value_counts()"
      ],
      "metadata": {
        "colab": {
          "base_uri": "https://localhost:8080/"
        },
        "id": "H8kEhHVS8DRr",
        "outputId": "8b8b6241-00f5-43f6-c0ff-64a624de5410"
      },
      "execution_count": 45,
      "outputs": [
        {
          "output_type": "execute_result",
          "data": {
            "text/plain": [
              "55-64     956\n",
              "45-54     880\n",
              "65-74     574\n",
              "35-44     429\n",
              "75-100    245\n",
              "25-34     153\n",
              "19-24      22\n",
              "13-18       3\n",
              "0-2         1\n",
              "Name: Age, dtype: int64"
            ]
          },
          "metadata": {},
          "execution_count": 45
        }
      ]
    },
    {
      "cell_type": "markdown",
      "source": [
        "4.Outliers detection and handling"
      ],
      "metadata": {
        "id": "oYQyDJDf8cVl"
      }
    },
    {
      "cell_type": "code",
      "source": [
        "plt.figure(figsize=(10,6))\n",
        "\n",
        "plt.subplot(2,2,1)\n",
        "plt.boxplot(data_new[\"EaseofUse\"])\n",
        "plt.title(\" Ease Of Use\")\n",
        "\n",
        "plt.subplot(2,2,2)\n",
        "plt.boxplot(data_new[\"Effectiveness\"])\n",
        "plt.title(\" Effectiveness\")\n",
        "\n",
        "plt.subplot(2,2,3)\n",
        "plt.boxplot(data_new[\"Satisfaction\"])\n",
        "plt.title(\" Satisfaction\")\n",
        "\n",
        "plt.subplot(2,2,4)\n",
        "plt.boxplot(data_new[\"UsefulCount\"])\n",
        "plt.title(\" Useful Count\")\n",
        "plt.show()\n"
      ],
      "metadata": {
        "colab": {
          "base_uri": "https://localhost:8080/",
          "height": 545
        },
        "id": "LPrVqXCJ8lpt",
        "outputId": "30f9dddc-db72-435b-cd38-29016d546359"
      },
      "execution_count": 46,
      "outputs": [
        {
          "output_type": "display_data",
          "data": {
            "text/plain": [
              "<Figure size 1000x600 with 4 Axes>"
            ],
            "image/png": "[encoded data removed]"
          },
          "metadata": {}
        }
      ]
    },
    {
      "cell_type": "markdown",
      "source": [
        "**Removing outliers**"
      ],
      "metadata": {
        "id": "oHzaepL08r09"
      }
    },
    {
      "cell_type": "code",
      "source": [
        "# define a function called 'outliers' which returns a list of outliers\n",
        "def outliers(df,ft):\n",
        "    Q1=df[ft].quantile(0.25)\n",
        "    Q3=df[ft].quantile(0.75)\n",
        "    IQR=Q3-Q1\n",
        "    lower=Q1-1.5*IQR\n",
        "    upper=Q3+1.5*IQR\n",
        "#create list to store indexes of outliers\n",
        "    ls= df.index[(df[ft]<lower) | (df[ft]>upper)]\n",
        "    return ls"
      ],
      "metadata": {
        "id": "gLWQwZ-i8ukh"
      },
      "execution_count": 47,
      "outputs": []
    },
    {
      "cell_type": "code",
      "source": [
        "#create an empty list to store indexes from multiple columns\n",
        "index_list=[]\n",
        "for feature in ['UsefulCount']:\n",
        "    index_list.extend(outliers(data_new,feature))\n",
        "index_list"
      ],
      "metadata": {
        "colab": {
          "base_uri": "https://localhost:8080/"
        },
        "id": "6_Yxior08xRH",
        "outputId": "d5211d8a-19ff-4e9e-807a-78d69840429a"
      },
      "execution_count": 48,
      "outputs": [
        {
          "output_type": "execute_result",
          "data": {
            "text/plain": [
              "[14371,\n",
              " 14373,\n",
              " 14393,\n",
              " 14435,\n",
              " 14477,\n",
              " 14481,\n",
              " 14483,\n",
              " 14543,\n",
              " 14577,\n",
              " 15231,\n",
              " 15281,\n",
              " 15307,\n",
              " 15308,\n",
              " 15311,\n",
              " 15316,\n",
              " 15324,\n",
              " 15360,\n",
              " 15432,\n",
              " 15435,\n",
              " 15436,\n",
              " 15438,\n",
              " 15449,\n",
              " 15463,\n",
              " 15467,\n",
              " 15589,\n",
              " 15629,\n",
              " 15675,\n",
              " 15843,\n",
              " 15929,\n",
              " 15958,\n",
              " 15962,\n",
              " 15963,\n",
              " 15985,\n",
              " 15992,\n",
              " 15994,\n",
              " 16011,\n",
              " 16017,\n",
              " 16020,\n",
              " 16024,\n",
              " 16165,\n",
              " 16344,\n",
              " 16526,\n",
              " 16538,\n",
              " 16541,\n",
              " 16542,\n",
              " 16544,\n",
              " 16545,\n",
              " 16682,\n",
              " 16693,\n",
              " 16697,\n",
              " 16779,\n",
              " 16852,\n",
              " 17396,\n",
              " 17479,\n",
              " 17499,\n",
              " 17972,\n",
              " 18067,\n",
              " 18085,\n",
              " 18176,\n",
              " 18322,\n",
              " 18364,\n",
              " 18504,\n",
              " 18508,\n",
              " 18684,\n",
              " 18851,\n",
              " 18891,\n",
              " 18905,\n",
              " 18939,\n",
              " 18958,\n",
              " 18990]"
            ]
          },
          "metadata": {},
          "execution_count": 48
        }
      ]
    },
    {
      "cell_type": "code",
      "source": [
        "#define a function called 'remove' which returns a cleaned data without outliers\n",
        "\n",
        "def remove(df,ls):\n",
        "    ls=sorted(set(ls)) #to sort and remove multiple copies(to get unique)\n",
        "    df=df.drop(ls)\n",
        "    return df\n",
        "data_new.shape"
      ],
      "metadata": {
        "colab": {
          "base_uri": "https://localhost:8080/"
        },
        "id": "q8nSOw3D8zRS",
        "outputId": "7fbeb466-b771-4e81-d2f5-a5ad35803edc"
      },
      "execution_count": 49,
      "outputs": [
        {
          "output_type": "execute_result",
          "data": {
            "text/plain": [
              "(3263, 14)"
            ]
          },
          "metadata": {},
          "execution_count": 49
        }
      ]
    },
    {
      "cell_type": "code",
      "source": [
        "data_new=remove(data_new,index_list)\n",
        "data_new.shape"
      ],
      "metadata": {
        "colab": {
          "base_uri": "https://localhost:8080/"
        },
        "id": "uHF-51lD86LR",
        "outputId": "4d6e013e-d3f9-4f91-a300-b7573f81a953"
      },
      "execution_count": 50,
      "outputs": [
        {
          "output_type": "execute_result",
          "data": {
            "text/plain": [
              "(3193, 14)"
            ]
          },
          "metadata": {},
          "execution_count": 50
        }
      ]
    },
    {
      "cell_type": "markdown",
      "source": [
        "**UsefulCount column post removal of outliers**"
      ],
      "metadata": {
        "id": "ry9kXrNH8_TI"
      }
    },
    {
      "cell_type": "code",
      "source": [
        "plt.boxplot(data_new[\"UsefulCount\"])\n",
        "plt.title('Box plot of Useful Count')"
      ],
      "metadata": {
        "colab": {
          "base_uri": "https://localhost:8080/",
          "height": 469
        },
        "id": "luXhvA--9C75",
        "outputId": "8d00c2f9-bf6a-4fde-d654-817e67d803a7"
      },
      "execution_count": 51,
      "outputs": [
        {
          "output_type": "execute_result",
          "data": {
            "text/plain": [
              "Text(0.5, 1.0, 'Box plot of Useful Count')"
            ]
          },
          "metadata": {},
          "execution_count": 51
        },
        {
          "output_type": "display_data",
          "data": {
            "text/plain": [
              "<Figure size 640x480 with 1 Axes>"
            ],
            "image/png": "[encoded data removed]"
          },
          "metadata": {}
        }
      ]
    },
    {
      "cell_type": "markdown",
      "source": [
        "5.Feature engineering\n"
      ],
      "metadata": {
        "id": "6XLtxrV99V-y"
      }
    },
    {
      "cell_type": "code",
      "source": [
        "#Creation of a new SideEffects column\n",
        "\n",
        "data1=np.where(data_new['Satisfaction'] == 1.0, \"Nil\", data_new['Satisfaction'])\n",
        "data1=np.where(data_new['Satisfaction'] == 2.0, \"Mild\",data1)\n",
        "data1=np.where(data_new['Satisfaction'] == 3.0, \"Moderate\", data1)\n",
        "data1=np.where(data_new['Satisfaction'] == 4.0, \"Severe\", data1)\n",
        "data1=np.where(data_new['Satisfaction'] == 5.0, \"Extreme\",data1)"
      ],
      "metadata": {
        "id": "yiNiVZcs9ZFV"
      },
      "execution_count": 52,
      "outputs": []
    },
    {
      "cell_type": "code",
      "source": [
        "data_new['SideEffects']=data1\n",
        "#Since DrugId is the same, dropping the column\n",
        "\n",
        "data_new.drop(['Satisfaction','DrugId'], inplace=True, axis=1)\n",
        "data_new.head()"
      ],
      "metadata": {
        "colab": {
          "base_uri": "https://localhost:8080/",
          "height": 669
        },
        "id": "0HQRL3Ue9bqY",
        "outputId": "198b0829-ea4d-407e-9764-f996afc83cde"
      },
      "execution_count": 53,
      "outputs": [
        {
          "output_type": "execute_result",
          "data": {
            "text/plain": [
              "                       Name   Race     Age            Condition        Date  \\\n",
              "14356          William Todd  White  75-100  High Blood Pressure    2/8/2020   \n",
              "14358  Christopher Anderson  Asian   55-64  High Blood Pressure   1/14/2020   \n",
              "14364           Jaime Villa  Asian   65-74  High Blood Pressure  10/17/2019   \n",
              "14367         Timothy Brown  Asian   55-64  High Blood Pressure  10/13/2019   \n",
              "14369          Karen Rogers  Asian   55-64  High Blood Pressure   8/16/2019   \n",
              "\n",
              "             Drug  EaseofUse  Effectiveness  \\\n",
              "14356  lisinopril        5.0            4.0   \n",
              "14358  lisinopril        4.0            5.0   \n",
              "14364  lisinopril        5.0            5.0   \n",
              "14367  lisinopril        2.0            4.0   \n",
              "14369  lisinopril        3.0            1.0   \n",
              "\n",
              "                                                 Reviews     Sex  \\\n",
              "14356  I have developed a very itch rash on my body f...  Female   \n",
              "14358  tried alternative medicine Beet root, hibiscus...    Male   \n",
              "14364  Have been taking 10 mg doses per day for over ...    Male   \n",
              "14367  I don't like that I'm taking this and not know...    Male   \n",
              "14369  Was on this medicine for about 2 months and ha...  Female   \n",
              "\n",
              "                                                   Sides  UsefulCount  \\\n",
              "14356  dizziness lightheadedness tiredness headache o...          3.0   \n",
              "14358  dizziness lightheadedness tiredness headache o...          3.0   \n",
              "14364  dizziness lightheadedness tiredness headache o...          6.0   \n",
              "14367  dizziness lightheadedness tiredness headache o...         12.0   \n",
              "14369  dizziness lightheadedness tiredness headache o...         22.0   \n",
              "\n",
              "      SideEffects  \n",
              "14356      Severe  \n",
              "14358      Severe  \n",
              "14364     Extreme  \n",
              "14367        Mild  \n",
              "14369         Nil  "
            ],
            "text/html": [
              "\n",
              "  <div id=\"df-90109646-22c1-4203-827c-66544c5282f6\">\n",
              "    <div class=\"colab-df-container\">\n",
              "      <div>\n",
              "<style scoped>\n",
              "    .dataframe tbody tr th:only-of-type {\n",
              "        vertical-align: middle;\n",
              "    }\n",
              "\n",
              "    .dataframe tbody tr th {\n",
              "        vertical-align: top;\n",
              "    }\n",
              "\n",
              "    .dataframe thead th {\n",
              "        text-align: right;\n",
              "    }\n",
              "</style>\n",
              "<table border=\"1\" class=\"dataframe\">\n",
              "  <thead>\n",
              "    <tr style=\"text-align: right;\">\n",
              "      <th></th>\n",
              "      <th>Name</th>\n",
              "      <th>Race</th>\n",
              "      <th>Age</th>\n",
              "      <th>Condition</th>\n",
              "      <th>Date</th>\n",
              "      <th>Drug</th>\n",
              "      <th>EaseofUse</th>\n",
              "      <th>Effectiveness</th>\n",
              "      <th>Reviews</th>\n",
              "      <th>Sex</th>\n",
              "      <th>Sides</th>\n",
              "      <th>UsefulCount</th>\n",
              "      <th>SideEffects</th>\n",
              "    </tr>\n",
              "  </thead>\n",
              "  <tbody>\n",
              "    <tr>\n",
              "      <th>14356</th>\n",
              "      <td>William Todd</td>\n",
              "      <td>White</td>\n",
              "      <td>75-100</td>\n",
              "      <td>High Blood Pressure</td>\n",
              "      <td>2/8/2020</td>\n",
              "      <td>lisinopril</td>\n",
              "      <td>5.0</td>\n",
              "      <td>4.0</td>\n",
              "      <td>I have developed a very itch rash on my body f...</td>\n",
              "      <td>Female</td>\n",
              "      <td>dizziness lightheadedness tiredness headache o...</td>\n",
              "      <td>3.0</td>\n",
              "      <td>Severe</td>\n",
              "    </tr>\n",
              "    <tr>\n",
              "      <th>14358</th>\n",
              "      <td>Christopher Anderson</td>\n",
              "      <td>Asian</td>\n",
              "      <td>55-64</td>\n",
              "      <td>High Blood Pressure</td>\n",
              "      <td>1/14/2020</td>\n",
              "      <td>lisinopril</td>\n",
              "      <td>4.0</td>\n",
              "      <td>5.0</td>\n",
              "      <td>tried alternative medicine Beet root, hibiscus...</td>\n",
              "      <td>Male</td>\n",
              "      <td>dizziness lightheadedness tiredness headache o...</td>\n",
              "      <td>3.0</td>\n",
              "      <td>Severe</td>\n",
              "    </tr>\n",
              "    <tr>\n",
              "      <th>14364</th>\n",
              "      <td>Jaime Villa</td>\n",
              "      <td>Asian</td>\n",
              "      <td>65-74</td>\n",
              "      <td>High Blood Pressure</td>\n",
              "      <td>10/17/2019</td>\n",
              "      <td>lisinopril</td>\n",
              "      <td>5.0</td>\n",
              "      <td>5.0</td>\n",
              "      <td>Have been taking 10 mg doses per day for over ...</td>\n",
              "      <td>Male</td>\n",
              "      <td>dizziness lightheadedness tiredness headache o...</td>\n",
              "      <td>6.0</td>\n",
              "      <td>Extreme</td>\n",
              "    </tr>\n",
              "    <tr>\n",
              "      <th>14367</th>\n",
              "      <td>Timothy Brown</td>\n",
              "      <td>Asian</td>\n",
              "      <td>55-64</td>\n",
              "      <td>High Blood Pressure</td>\n",
              "      <td>10/13/2019</td>\n",
              "      <td>lisinopril</td>\n",
              "      <td>2.0</td>\n",
              "      <td>4.0</td>\n",
              "      <td>I don't like that I'm taking this and not know...</td>\n",
              "      <td>Male</td>\n",
              "      <td>dizziness lightheadedness tiredness headache o...</td>\n",
              "      <td>12.0</td>\n",
              "      <td>Mild</td>\n",
              "    </tr>\n",
              "    <tr>\n",
              "      <th>14369</th>\n",
              "      <td>Karen Rogers</td>\n",
              "      <td>Asian</td>\n",
              "      <td>55-64</td>\n",
              "      <td>High Blood Pressure</td>\n",
              "      <td>8/16/2019</td>\n",
              "      <td>lisinopril</td>\n",
              "      <td>3.0</td>\n",
              "      <td>1.0</td>\n",
              "      <td>Was on this medicine for about 2 months and ha...</td>\n",
              "      <td>Female</td>\n",
              "      <td>dizziness lightheadedness tiredness headache o...</td>\n",
              "      <td>22.0</td>\n",
              "      <td>Nil</td>\n",
              "    </tr>\n",
              "  </tbody>\n",
              "</table>\n",
              "</div>\n",
              "      <button class=\"colab-df-convert\" onclick=\"convertToInteractive('df-90109646-22c1-4203-827c-66544c5282f6')\"\n",
              "              title=\"Convert this dataframe to an interactive table.\"\n",
              "              style=\"display:none;\">\n",
              "        \n",
              "  <svg xmlns=\"http://www.w3.org/2000/svg\" height=\"24px\"viewBox=\"0 0 24 24\"\n",
              "       width=\"24px\">\n",
              "    <path d=\"M0 0h24v24H0V0z\" fill=\"none\"/>\n",
              "    <path d=\"M18.56 5.44l.94 2.06.94-2.06 2.06-.94-2.06-.94-.94-2.06-.94 2.06-2.06.94zm-11 1L8.5 8.5l.94-2.06 2.06-.94-2.06-.94L8.5 2.5l-.94 2.06-2.06.94zm10 10l.94 2.06.94-2.06 2.06-.94-2.06-.94-.94-2.06-.94 2.06-2.06.94z\"/><path d=\"M17.41 7.96l-1.37-1.37c-.4-.4-.92-.59-1.43-.59-.52 0-1.04.2-1.43.59L10.3 9.45l-7.72 7.72c-.78.78-.78 2.05 0 2.83L4 21.41c.39.39.9.59 1.41.59.51 0 1.02-.2 1.41-.59l7.78-7.78 2.81-2.81c.8-.78.8-2.07 0-2.86zM5.41 20L4 18.59l7.72-7.72 1.47 1.35L5.41 20z\"/>\n",
              "  </svg>\n",
              "      </button>\n",
              "      \n",
              "  <style>\n",
              "    .colab-df-container {\n",
              "      display:flex;\n",
              "      flex-wrap:wrap;\n",
              "      gap: 12px;\n",
              "    }\n",
              "\n",
              "    .colab-df-convert {\n",
              "      background-color: #E8F0FE;\n",
              "      border: none;\n",
              "      border-radius: 50%;\n",
              "      cursor: pointer;\n",
              "      display: none;\n",
              "      fill: #1967D2;\n",
              "      height: 32px;\n",
              "      padding: 0 0 0 0;\n",
              "      width: 32px;\n",
              "    }\n",
              "\n",
              "    .colab-df-convert:hover {\n",
              "      background-color: #E2EBFA;\n",
              "      box-shadow: 0px 1px 2px rgba(60, 64, 67, 0.3), 0px 1px 3px 1px rgba(60, 64, 67, 0.15);\n",
              "      fill: #174EA6;\n",
              "    }\n",
              "\n",
              "    [theme=dark] .colab-df-convert {\n",
              "      background-color: #3B4455;\n",
              "      fill: #D2E3FC;\n",
              "    }\n",
              "\n",
              "    [theme=dark] .colab-df-convert:hover {\n",
              "      background-color: #434B5C;\n",
              "      box-shadow: 0px 1px 3px 1px rgba(0, 0, 0, 0.15);\n",
              "      filter: drop-shadow(0px 1px 2px rgba(0, 0, 0, 0.3));\n",
              "      fill: #FFFFFF;\n",
              "    }\n",
              "  </style>\n",
              "\n",
              "      <script>\n",
              "        const buttonEl =\n",
              "          document.querySelector('#df-90109646-22c1-4203-827c-66544c5282f6 button.colab-df-convert');\n",
              "        buttonEl.style.display =\n",
              "          google.colab.kernel.accessAllowed ? 'block' : 'none';\n",
              "\n",
              "        async function convertToInteractive(key) {\n",
              "          const element = document.querySelector('#df-90109646-22c1-4203-827c-66544c5282f6');\n",
              "          const dataTable =\n",
              "            await google.colab.kernel.invokeFunction('convertToInteractive',\n",
              "                                                     [key], {});\n",
              "          if (!dataTable) return;\n",
              "\n",
              "          const docLinkHtml = 'Like what you see? Visit the ' +\n",
              "            '<a target=\"_blank\" href=https://colab.research.google.com/notebooks/data_table.ipynb>data table notebook</a>'\n",
              "            + ' to learn more about interactive tables.';\n",
              "          element.innerHTML = '';\n",
              "          dataTable['output_type'] = 'display_data';\n",
              "          await google.colab.output.renderOutput(dataTable, element);\n",
              "          const docLink = document.createElement('div');\n",
              "          docLink.innerHTML = docLinkHtml;\n",
              "          element.appendChild(docLink);\n",
              "        }\n",
              "      </script>\n",
              "    </div>\n",
              "  </div>\n",
              "  "
            ]
          },
          "metadata": {},
          "execution_count": 53
        }
      ]
    }
  ]
}